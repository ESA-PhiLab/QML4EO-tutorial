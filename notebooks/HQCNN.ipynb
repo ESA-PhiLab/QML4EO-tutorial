{
 "cells": [
  {
   "cell_type": "markdown",
   "metadata": {
    "id": "Gb0Sogigom9N"
   },
   "source": [
    "# Hybrid Quantum Convolutional Neural Netwoks for Earth Observation Classification\n",
    "![](https://ieeexplore.ieee.org/mediastore_new/IEEE/content/media/4609443/9656571/9647979/sebas9-3134785-large.gif)\n",
    "\n",
    "\n",
    "Please refer to the following articles to get more insight about this topic:\n",
    "    - Sebastianelli, A., Zaidenberg, D. A., Spiller, D., Le Saux, B., & Ullo, S. L. (2021). On circuit-based hybrid quantum neural networks for remote sensing imagery classification. IEEE Journal of Selected Topics in Applied Earth Observations and Remote Sensing, 15, 565-580.\n",
    "    - Zaidenberg, D. A., Sebastianelli, A., Spiller, D., Le Saux, B., & Ullo, S. L. (2021, July). Advantages and bottlenecks of quantum machine learning for remote sensing. In 2021 IEEE International Geoscience and Remote Sensing Symposium IGARSS (pp. 5680-5683). IEEE.\n",
    "    - Eurosat: A novel dataset and deep learning benchmark for land use and land cover classification. Patrick Helber, Benjamin Bischke, Andreas Dengel, Damian Borth. IEEE Journal of Selected Topics in Applied Earth Observations and Remote Sensing, 2019.\n",
    "    - Introducing EuroSAT: A Novel Dataset and Deep Learning Benchmark for Land Use and Land Cover Classification. Patrick Helber, Benjamin Bischke, Andreas Dengel. 2018 IEEE International Geoscience and Remote Sensing Symposium, 2018.\n",
    "    - https://qiskit.org/documentation/machine-learning/tutorials/index.html\n",
    "    - https://pennylane.ai/qml/demos_qml.html\n"
   ]
  },
  {
   "cell_type": "markdown",
   "metadata": {
    "id": "7YQNPYERPYB5"
   },
   "source": [
    "# Download the dataset\n",
    "\n",
    "In this study, we address the challenge of land use and land cover classification using Sentinel-2 satellite images. The Sentinel-2 satellite images are openly and freely accessible provided in the Earth observation program Copernicus. We present a novel dataset based on Sentinel-2 satellite images covering 13 spectral bands and consisting out of 10 classes with in total 27,000 labeled and geo-referenced images. We provide benchmarks for this novel dataset with its spectral bands using state-of-the-art deep Convolutional Neural Network (CNNs). With the proposed novel dataset, we achieved an overall classification accuracy of 98.57%. The resulting classification system opens a gate towards a number of Earth observation applications. We demonstrate how this classification system can be used for detecting land use and land cover changes and how it can assist in improving geographical maps.\n",
    "\n",
    "To download, click here: https://madm.dfki.de/files/sentinel/EuroSAT.zip\n",
    "Unzip the downloaded package.\n",
    "\n",
    "\n",
    "\n",
    "Get more information [here](https://github.com/phelber/EuroSAT).\n",
    "\n",
    "![](https://github.com/phelber/EuroSAT/blob/master/eurosat_overview_small.jpg?raw=true)\n",
    "\n",
    "\n"
   ]
  },
  {
   "cell_type": "markdown",
   "metadata": {
    "id": "X5Oxrys2om9P"
   },
   "source": [
    "For this tutorial we are using the EuroSAT RGB dataset, accessible via wget. The following cell takes care of downloading, unzipping and preparing the dataset. Add more here..... 270"
   ]
  },
  {
   "cell_type": "markdown",
   "metadata": {
    "id": "hWThPDKS7WAi"
   },
   "source": [
    "# Network train and validation"
   ]
  },
  {
   "cell_type": "code",
   "execution_count": 1,
   "metadata": {
    "id": "Dps5FgGHmnPr",
    "tags": []
   },
   "outputs": [
    {
     "name": "stderr",
     "output_type": "stream",
     "text": [
      "C:\\Users\\SeanWalsh\\anaconda3\\envs\\conda_env\\lib\\site-packages\\qiskit\\validation\\fields\\custom.py:76: DeprecationWarning: `np.float` is a deprecated alias for the builtin `float`. To silence this warning, use `float` by itself. Doing this will not modify any behavior and is safe. If you specifically wanted the numpy scalar type, use `np.float64` here.\n",
      "Deprecated in NumPy 1.20; for more details and guidance: https://numpy.org/devdocs/release/1.20.0-notes.html#deprecations\n",
      "  numpy.integer, numpy.float,\n",
      "C:\\Users\\SeanWalsh\\anaconda3\\envs\\conda_env\\lib\\site-packages\\qiskit\\providers\\aer\\pulse\\qutip_lite\\fastsparse.py:57: DeprecationWarning: Please use `upcast` from the `scipy.sparse` namespace, the `scipy.sparse.sputils` namespace is deprecated.\n",
      "  from scipy.sparse.sputils import (upcast, isdense, isscalarlike, get_index_dtype)\n",
      "C:\\Users\\SeanWalsh\\anaconda3\\envs\\conda_env\\lib\\site-packages\\qiskit\\providers\\aer\\pulse\\qutip_lite\\fastsparse.py:57: DeprecationWarning: Please use `isdense` from the `scipy.sparse` namespace, the `scipy.sparse.sputils` namespace is deprecated.\n",
      "  from scipy.sparse.sputils import (upcast, isdense, isscalarlike, get_index_dtype)\n",
      "C:\\Users\\SeanWalsh\\anaconda3\\envs\\conda_env\\lib\\site-packages\\qiskit\\providers\\aer\\pulse\\qutip_lite\\fastsparse.py:57: DeprecationWarning: Please use `isscalarlike` from the `scipy.sparse` namespace, the `scipy.sparse.sputils` namespace is deprecated.\n",
      "  from scipy.sparse.sputils import (upcast, isdense, isscalarlike, get_index_dtype)\n",
      "C:\\Users\\SeanWalsh\\anaconda3\\envs\\conda_env\\lib\\site-packages\\qiskit\\providers\\aer\\pulse\\qutip_lite\\fastsparse.py:57: DeprecationWarning: Please use `get_index_dtype` from the `scipy.sparse` namespace, the `scipy.sparse.sputils` namespace is deprecated.\n",
      "  from scipy.sparse.sputils import (upcast, isdense, isscalarlike, get_index_dtype)\n",
      "C:\\Users\\SeanWalsh\\anaconda3\\envs\\conda_env\\lib\\site-packages\\qiskit\\providers\\aer\\pulse\\qutip_lite\\fastsparse.py:58: DeprecationWarning: Please use `SparseEfficiencyWarning` from the `scipy.sparse` namespace, the `scipy.sparse.base` namespace is deprecated.\n",
      "  from scipy.sparse.base import SparseEfficiencyWarning\n",
      "C:\\Users\\SeanWalsh\\anaconda3\\envs\\conda_env\\lib\\site-packages\\qiskit\\visualization\\interactive\\iplot_blochsphere.py:27: DeprecationWarning: Importing display from IPython.core.display is deprecated since IPython 7.14, please import from IPython display\n",
      "  from IPython.core.display import display, HTML\n",
      "C:\\Users\\SeanWalsh\\anaconda3\\envs\\conda_env\\lib\\site-packages\\qiskit\\visualization\\interactive\\iplot_cities.py:25: DeprecationWarning: Importing display from IPython.core.display is deprecated since IPython 7.14, please import from IPython display\n",
      "  from IPython.core.display import display, HTML\n",
      "C:\\Users\\SeanWalsh\\anaconda3\\envs\\conda_env\\lib\\site-packages\\qiskit\\visualization\\interactive\\iplot_qsphere.py:33: DeprecationWarning: Importing display from IPython.core.display is deprecated since IPython 7.14, please import from IPython display\n",
      "  from IPython.core.display import display, HTML\n",
      "C:\\Users\\SeanWalsh\\anaconda3\\envs\\conda_env\\lib\\site-packages\\qiskit\\visualization\\interactive\\iplot_hinton.py:25: DeprecationWarning: Importing display from IPython.core.display is deprecated since IPython 7.14, please import from IPython display\n",
      "  from IPython.core.display import display, HTML\n",
      "C:\\Users\\SeanWalsh\\anaconda3\\envs\\conda_env\\lib\\site-packages\\qiskit\\visualization\\interactive\\iplot_histogram.py:28: DeprecationWarning: Importing display from IPython.core.display is deprecated since IPython 7.14, please import from IPython display\n",
      "  from IPython.core.display import display, HTML\n",
      "C:\\Users\\SeanWalsh\\anaconda3\\envs\\conda_env\\lib\\site-packages\\qiskit\\visualization\\interactive\\iplot_paulivec.py:27: DeprecationWarning: Importing display from IPython.core.display is deprecated since IPython 7.14, please import from IPython display\n",
      "  from IPython.core.display import display, HTML\n",
      "C:\\Users\\SeanWalsh\\anaconda3\\envs\\conda_env\\lib\\site-packages\\qiskit\\quantum_info\\operators\\pauli.py:111: DeprecationWarning: `np.bool` is a deprecated alias for the builtin `bool`. To silence this warning, use `bool` by itself. Doing this will not modify any behavior and is safe. If you specifically wanted the numpy scalar type, use `np.bool_` here.\n",
      "Deprecated in NumPy 1.20; for more details and guidance: https://numpy.org/devdocs/release/1.20.0-notes.html#deprecations\n",
      "  z = np.zeros(len(label), dtype=np.bool)\n",
      "C:\\Users\\SeanWalsh\\anaconda3\\envs\\conda_env\\lib\\site-packages\\qiskit\\quantum_info\\operators\\pauli.py:112: DeprecationWarning: `np.bool` is a deprecated alias for the builtin `bool`. To silence this warning, use `bool` by itself. Doing this will not modify any behavior and is safe. If you specifically wanted the numpy scalar type, use `np.bool_` here.\n",
      "Deprecated in NumPy 1.20; for more details and guidance: https://numpy.org/devdocs/release/1.20.0-notes.html#deprecations\n",
      "  x = np.zeros(len(label), dtype=np.bool)\n",
      "C:\\Users\\SeanWalsh\\anaconda3\\envs\\conda_env\\lib\\site-packages\\qiskit\\quantum_info\\operators\\pauli.py:34: DeprecationWarning: `np.bool` is a deprecated alias for the builtin `bool`. To silence this warning, use `bool` by itself. Doing this will not modify any behavior and is safe. If you specifically wanted the numpy scalar type, use `np.bool_` here.\n",
      "Deprecated in NumPy 1.20; for more details and guidance: https://numpy.org/devdocs/release/1.20.0-notes.html#deprecations\n",
      "  arr = np.asarray(arr).astype(np.bool)\n",
      "C:\\Users\\SeanWalsh\\anaconda3\\envs\\conda_env\\lib\\site-packages\\qiskit\\quantum_info\\operators\\pauli.py:34: DeprecationWarning: `np.bool` is a deprecated alias for the builtin `bool`. To silence this warning, use `bool` by itself. Doing this will not modify any behavior and is safe. If you specifically wanted the numpy scalar type, use `np.bool_` here.\n",
      "Deprecated in NumPy 1.20; for more details and guidance: https://numpy.org/devdocs/release/1.20.0-notes.html#deprecations\n",
      "  arr = np.asarray(arr).astype(np.bool)\n",
      "C:\\Users\\SeanWalsh\\anaconda3\\envs\\conda_env\\lib\\site-packages\\qiskit\\quantum_info\\operators\\pauli.py:111: DeprecationWarning: `np.bool` is a deprecated alias for the builtin `bool`. To silence this warning, use `bool` by itself. Doing this will not modify any behavior and is safe. If you specifically wanted the numpy scalar type, use `np.bool_` here.\n",
      "Deprecated in NumPy 1.20; for more details and guidance: https://numpy.org/devdocs/release/1.20.0-notes.html#deprecations\n",
      "  z = np.zeros(len(label), dtype=np.bool)\n",
      "C:\\Users\\SeanWalsh\\anaconda3\\envs\\conda_env\\lib\\site-packages\\qiskit\\quantum_info\\operators\\pauli.py:112: DeprecationWarning: `np.bool` is a deprecated alias for the builtin `bool`. To silence this warning, use `bool` by itself. Doing this will not modify any behavior and is safe. If you specifically wanted the numpy scalar type, use `np.bool_` here.\n",
      "Deprecated in NumPy 1.20; for more details and guidance: https://numpy.org/devdocs/release/1.20.0-notes.html#deprecations\n",
      "  x = np.zeros(len(label), dtype=np.bool)\n",
      "C:\\Users\\SeanWalsh\\anaconda3\\envs\\conda_env\\lib\\site-packages\\qiskit\\quantum_info\\operators\\pauli.py:34: DeprecationWarning: `np.bool` is a deprecated alias for the builtin `bool`. To silence this warning, use `bool` by itself. Doing this will not modify any behavior and is safe. If you specifically wanted the numpy scalar type, use `np.bool_` here.\n",
      "Deprecated in NumPy 1.20; for more details and guidance: https://numpy.org/devdocs/release/1.20.0-notes.html#deprecations\n",
      "  arr = np.asarray(arr).astype(np.bool)\n",
      "C:\\Users\\SeanWalsh\\anaconda3\\envs\\conda_env\\lib\\site-packages\\qiskit\\quantum_info\\operators\\pauli.py:34: DeprecationWarning: `np.bool` is a deprecated alias for the builtin `bool`. To silence this warning, use `bool` by itself. Doing this will not modify any behavior and is safe. If you specifically wanted the numpy scalar type, use `np.bool_` here.\n",
      "Deprecated in NumPy 1.20; for more details and guidance: https://numpy.org/devdocs/release/1.20.0-notes.html#deprecations\n",
      "  arr = np.asarray(arr).astype(np.bool)\n",
      "C:\\Users\\SeanWalsh\\anaconda3\\envs\\conda_env\\lib\\site-packages\\qiskit\\quantum_info\\operators\\pauli.py:111: DeprecationWarning: `np.bool` is a deprecated alias for the builtin `bool`. To silence this warning, use `bool` by itself. Doing this will not modify any behavior and is safe. If you specifically wanted the numpy scalar type, use `np.bool_` here.\n",
      "Deprecated in NumPy 1.20; for more details and guidance: https://numpy.org/devdocs/release/1.20.0-notes.html#deprecations\n",
      "  z = np.zeros(len(label), dtype=np.bool)\n",
      "C:\\Users\\SeanWalsh\\anaconda3\\envs\\conda_env\\lib\\site-packages\\qiskit\\quantum_info\\operators\\pauli.py:112: DeprecationWarning: `np.bool` is a deprecated alias for the builtin `bool`. To silence this warning, use `bool` by itself. Doing this will not modify any behavior and is safe. If you specifically wanted the numpy scalar type, use `np.bool_` here.\n",
      "Deprecated in NumPy 1.20; for more details and guidance: https://numpy.org/devdocs/release/1.20.0-notes.html#deprecations\n",
      "  x = np.zeros(len(label), dtype=np.bool)\n",
      "C:\\Users\\SeanWalsh\\anaconda3\\envs\\conda_env\\lib\\site-packages\\qiskit\\quantum_info\\operators\\pauli.py:34: DeprecationWarning: `np.bool` is a deprecated alias for the builtin `bool`. To silence this warning, use `bool` by itself. Doing this will not modify any behavior and is safe. If you specifically wanted the numpy scalar type, use `np.bool_` here.\n",
      "Deprecated in NumPy 1.20; for more details and guidance: https://numpy.org/devdocs/release/1.20.0-notes.html#deprecations\n",
      "  arr = np.asarray(arr).astype(np.bool)\n",
      "C:\\Users\\SeanWalsh\\anaconda3\\envs\\conda_env\\lib\\site-packages\\qiskit\\quantum_info\\operators\\pauli.py:34: DeprecationWarning: `np.bool` is a deprecated alias for the builtin `bool`. To silence this warning, use `bool` by itself. Doing this will not modify any behavior and is safe. If you specifically wanted the numpy scalar type, use `np.bool_` here.\n",
      "Deprecated in NumPy 1.20; for more details and guidance: https://numpy.org/devdocs/release/1.20.0-notes.html#deprecations\n",
      "  arr = np.asarray(arr).astype(np.bool)\n",
      "C:\\Users\\SeanWalsh\\anaconda3\\envs\\conda_env\\lib\\site-packages\\qiskit\\quantum_info\\operators\\pauli.py:111: DeprecationWarning: `np.bool` is a deprecated alias for the builtin `bool`. To silence this warning, use `bool` by itself. Doing this will not modify any behavior and is safe. If you specifically wanted the numpy scalar type, use `np.bool_` here.\n",
      "Deprecated in NumPy 1.20; for more details and guidance: https://numpy.org/devdocs/release/1.20.0-notes.html#deprecations\n",
      "  z = np.zeros(len(label), dtype=np.bool)\n",
      "C:\\Users\\SeanWalsh\\anaconda3\\envs\\conda_env\\lib\\site-packages\\qiskit\\quantum_info\\operators\\pauli.py:112: DeprecationWarning: `np.bool` is a deprecated alias for the builtin `bool`. To silence this warning, use `bool` by itself. Doing this will not modify any behavior and is safe. If you specifically wanted the numpy scalar type, use `np.bool_` here.\n",
      "Deprecated in NumPy 1.20; for more details and guidance: https://numpy.org/devdocs/release/1.20.0-notes.html#deprecations\n",
      "  x = np.zeros(len(label), dtype=np.bool)\n",
      "C:\\Users\\SeanWalsh\\anaconda3\\envs\\conda_env\\lib\\site-packages\\qiskit\\quantum_info\\operators\\pauli.py:34: DeprecationWarning: `np.bool` is a deprecated alias for the builtin `bool`. To silence this warning, use `bool` by itself. Doing this will not modify any behavior and is safe. If you specifically wanted the numpy scalar type, use `np.bool_` here.\n",
      "Deprecated in NumPy 1.20; for more details and guidance: https://numpy.org/devdocs/release/1.20.0-notes.html#deprecations\n",
      "  arr = np.asarray(arr).astype(np.bool)\n",
      "C:\\Users\\SeanWalsh\\anaconda3\\envs\\conda_env\\lib\\site-packages\\qiskit\\quantum_info\\operators\\pauli.py:34: DeprecationWarning: `np.bool` is a deprecated alias for the builtin `bool`. To silence this warning, use `bool` by itself. Doing this will not modify any behavior and is safe. If you specifically wanted the numpy scalar type, use `np.bool_` here.\n",
      "Deprecated in NumPy 1.20; for more details and guidance: https://numpy.org/devdocs/release/1.20.0-notes.html#deprecations\n",
      "  arr = np.asarray(arr).astype(np.bool)\n"
     ]
    }
   ],
   "source": [
    "# Suppressing warning\n",
    "import warnings\n",
    "warnings.filterwarnings('ignore')\n",
    "\n",
    "import sys\n",
    "sys.path.append('../')\n",
    "\n",
    "from utils.DatasetHandler import DatasetHandler\n",
    "from qc.QiskitCircuit import QiskitCircuit\n",
    "from models.HybridNet import HybridNet\n",
    "from models.PyTorchModel import PyTorchModel\n",
    "\n",
    "# Configuration file, please read it carefully\n",
    "from config import *\n",
    "\n",
    "import torch.optim as optim\n",
    "import torch.nn as nn\n",
    "import torch\n",
    "import os\n",
    "\n",
    "# Allows to reload modified code without restarting the kernel\n",
    "%load_ext autoreload\n",
    "%autoreload 2"
   ]
  },
  {
   "cell_type": "markdown",
   "metadata": {
    "id": "zI9hoHbUom9S"
   },
   "source": [
    "Load the dataset"
   ]
  },
  {
   "cell_type": "code",
   "execution_count": 2,
   "metadata": {
    "colab": {
     "base_uri": "https://localhost:8080/"
    },
    "id": "zGcMqkxq7DOe",
    "outputId": "6a0798b7-f7c5-44cc-d3bc-5cc0fd951e0b",
    "tags": []
   },
   "outputs": [
    {
     "name": "stdout",
     "output_type": "stream",
     "text": [
      "Loading Dataset\n",
      "[*] Classes: ['2750']\n"
     ]
    },
    {
     "ename": "KeyError",
     "evalue": "'2750'",
     "output_type": "error",
     "traceback": [
      "\u001b[1;31m---------------------------------------------------------------------------\u001b[0m",
      "\u001b[1;31mKeyError\u001b[0m                                  Traceback (most recent call last)",
      "Cell \u001b[1;32mIn[2], line 14\u001b[0m\n\u001b[0;32m     11\u001b[0m \u001b[38;5;28mprint\u001b[39m(\u001b[38;5;124m'\u001b[39m\u001b[38;5;124m[*] Classes: \u001b[39m\u001b[38;5;132;01m{}\u001b[39;00m\u001b[38;5;124m'\u001b[39m\u001b[38;5;241m.\u001b[39mformat(classes))\n\u001b[0;32m     13\u001b[0m \u001b[38;5;66;03m################################ Load image paths and labels ################################\u001b[39;00m\n\u001b[1;32m---> 14\u001b[0m imgs, labels \u001b[38;5;241m=\u001b[39m \u001b[43mdh\u001b[49m\u001b[38;5;241;43m.\u001b[39;49m\u001b[43mload_paths_labels\u001b[49m\u001b[43m(\u001b[49m\u001b[43mDATASET_ROOT\u001b[49m\u001b[43m,\u001b[49m\u001b[43m \u001b[49m\u001b[43mclasses\u001b[49m\u001b[38;5;241;43m=\u001b[39;49m\u001b[43mclasses\u001b[49m\u001b[43m)\u001b[49m\n\u001b[0;32m     15\u001b[0m \u001b[38;5;28mprint\u001b[39m(\u001b[38;5;124m'\u001b[39m\u001b[38;5;124m[*] Size: \u001b[39m\u001b[38;5;132;01m{}\u001b[39;00m\u001b[38;5;124m'\u001b[39m\u001b[38;5;241m.\u001b[39mformat(\u001b[38;5;28mlen\u001b[39m(imgs)))\n\u001b[0;32m     17\u001b[0m \u001b[38;5;66;03m################################# Training-Validation Split #################################\u001b[39;00m\n",
      "File \u001b[1;32m~\\PycharmProjects\\QML4EO-tutorial\\notebooks\\..\\utils\\DatasetHandler.py:134\u001b[0m, in \u001b[0;36mDatasetHandler.load_paths_labels\u001b[1;34m(self, root, classes)\u001b[0m\n\u001b[0;32m    131\u001b[0m     \u001b[38;5;28;01mfor\u001b[39;00m path \u001b[38;5;129;01min\u001b[39;00m paths_in_c:\n\u001b[0;32m    132\u001b[0m         \u001b[38;5;66;03m# Append the path of the image in the images path list\u001b[39;00m\n\u001b[0;32m    133\u001b[0m         imgs_path\u001b[38;5;241m.\u001b[39mappend(path)\n\u001b[1;32m--> 134\u001b[0m         imgs_label\u001b[38;5;241m.\u001b[39mappend(\u001b[43mCLASS_DICT\u001b[49m\u001b[43m[\u001b[49m\u001b[43mc\u001b[49m\u001b[43m]\u001b[49m)\n\u001b[0;32m    136\u001b[0m \u001b[38;5;66;03m# Shuffle paths and labels in the same way\u001b[39;00m\n\u001b[0;32m    137\u001b[0m c \u001b[38;5;241m=\u001b[39m \u001b[38;5;28mlist\u001b[39m(\u001b[38;5;28mzip\u001b[39m(imgs_path, imgs_label))\n",
      "\u001b[1;31mKeyError\u001b[0m: '2750'"
     ]
    }
   ],
   "source": [
    "################################ Initialize Dataset Handler ################################\n",
    "################################ and print classes          ################################\n",
    "print('Loading Dataset')\n",
    "dh = DatasetHandler(DATASET_ROOT)\n",
    "\n",
    "classes = []\n",
    "for i, c in enumerate(dh.classes):\n",
    "    cl = c.split(os.path.sep)[-1]\n",
    "    classes.append(cl)\n",
    "classes.sort()\n",
    "print('[*] Classes: {}'.format(classes))\n",
    "\n",
    "################################ Load image paths and labels ################################\n",
    "imgs, labels = dh.load_paths_labels(DATASET_ROOT, classes=classes)\n",
    "print('[*] Size: {}'.format(len(imgs)))\n",
    "\n",
    "################################# Training-Validation Split #################################\n",
    "tra_imgs, tra_lbls, val_imgs, val_lbls = dh.train_validation_split(imgs, labels, SPLIT_FACTOR)\n",
    "print('[*] Training Size:   {}'.format(len(tra_imgs)))\n",
    "print('[*] Validation Size: {}'.format(len(val_imgs)))"
   ]
  },
  {
   "cell_type": "markdown",
   "metadata": {
    "id": "_3JjTDixom9S"
   },
   "source": [
    "Initialize hybrid model"
   ]
  },
  {
   "cell_type": "code",
   "execution_count": 3,
   "metadata": {
    "colab": {
     "base_uri": "https://localhost:8080/"
    },
    "id": "z3LYqtYxBUPW",
    "outputId": "b1505930-b9e4-4230-df44-867d2eff2c1c"
   },
   "outputs": [
    {
     "name": "stdout",
     "output_type": "stream",
     "text": [
      "Initialize Quantum Hybrid Neural Network\n",
      "Printing Quantum Circuit\n",
      "        ┌───┐ ░ ┌────────────┐┌───┐┌───┐┌───┐┌────────────┐                   »\n",
      "   q_0: ┤ H ├─░─┤ RY(Theta0) ├┤ X ├┤ X ├┤ X ├┤ RY(Theta4) ├───────────────────»\n",
      "        ├───┤ ░ ├────────────┤└─┬─┘└─┬─┘└─┬─┘└───┬───┬────┘┌───┐┌────────────┐»\n",
      "   q_1: ┤ H ├─░─┤ RY(Theta1) ├──■────┼────┼──────┤ X ├─────┤ X ├┤ RY(Theta5) ├»\n",
      "        ├───┤ ░ ├────────────┤       │    │      └─┬─┘     └─┬─┘└───┬───┬────┘»\n",
      "   q_2: ┤ H ├─░─┤ RY(Theta2) ├───────■────┼────────■─────────┼──────┤ X ├─────»\n",
      "        ├───┤ ░ ├────────────┤            │                  │      └─┬─┘     »\n",
      "   q_3: ┤ H ├─░─┤ RY(Theta3) ├────────────■──────────────────■────────■───────»\n",
      "        └───┘ ░ └────────────┘                                                »\n",
      "meas_0: ══════════════════════════════════════════════════════════════════════»\n",
      "                                                                              »\n",
      "meas_1: ══════════════════════════════════════════════════════════════════════»\n",
      "                                                                              »\n",
      "meas_2: ══════════════════════════════════════════════════════════════════════»\n",
      "                                                                              »\n",
      "meas_3: ══════════════════════════════════════════════════════════════════════»\n",
      "                                                                              »\n",
      "«            ┌───┐     ┌───┐┌───┐┌────────────┐                   »\n",
      "«   q_0: ────┤ X ├─────┤ X ├┤ X ├┤ RY(Theta8) ├───────────────────»\n",
      "«            └─┬─┘     └─┬─┘└─┬─┘└───┬───┬────┘┌───┐┌────────────┐»\n",
      "«   q_1: ──────■─────────┼────┼──────┤ X ├─────┤ X ├┤ RY(Theta9) ├»\n",
      "«        ┌────────────┐  │    │      └─┬─┘     └─┬─┘└───┬───┬────┘»\n",
      "«   q_2: ┤ RY(Theta6) ├──■────┼────────■─────────┼──────┤ X ├─────»\n",
      "«        ├────────────┤       │                  │      └─┬─┘     »\n",
      "«   q_3: ┤ RY(Theta7) ├───────■──────────────────■────────■───────»\n",
      "«        └────────────┘                                           »\n",
      "«meas_0: ═════════════════════════════════════════════════════════»\n",
      "«                                                                 »\n",
      "«meas_1: ═════════════════════════════════════════════════════════»\n",
      "«                                                                 »\n",
      "«meas_2: ═════════════════════════════════════════════════════════»\n",
      "«                                                                 »\n",
      "«meas_3: ═════════════════════════════════════════════════════════»\n",
      "«                                                                 »\n",
      "«             ┌───┐     ┌───┐┌───┐┌─────────────┐                    »\n",
      "«   q_0: ─────┤ X ├─────┤ X ├┤ X ├┤ RY(Theta12) ├────────────────────»\n",
      "«             └─┬─┘     └─┬─┘└─┬─┘└────┬───┬────┘┌───┐┌─────────────┐»\n",
      "«   q_1: ───────■─────────┼────┼───────┤ X ├─────┤ X ├┤ RY(Theta13) ├»\n",
      "«        ┌─────────────┐  │    │       └─┬─┘     └─┬─┘└────┬───┬────┘»\n",
      "«   q_2: ┤ RY(Theta10) ├──■────┼─────────■─────────┼───────┤ X ├─────»\n",
      "«        ├─────────────┤       │                   │       └─┬─┘     »\n",
      "«   q_3: ┤ RY(Theta11) ├───────■───────────────────■─────────■───────»\n",
      "«        └─────────────┘                                             »\n",
      "«meas_0: ════════════════════════════════════════════════════════════»\n",
      "«                                                                    »\n",
      "«meas_1: ════════════════════════════════════════════════════════════»\n",
      "«                                                                    »\n",
      "«meas_2: ════════════════════════════════════════════════════════════»\n",
      "«                                                                    »\n",
      "«meas_3: ════════════════════════════════════════════════════════════»\n",
      "«                                                                    »\n",
      "«             ┌───┐     ┌───┐┌───┐┌─────────────┐                    »\n",
      "«   q_0: ─────┤ X ├─────┤ X ├┤ X ├┤ RY(Theta16) ├────────────────────»\n",
      "«             └─┬─┘     └─┬─┘└─┬─┘└────┬───┬────┘┌───┐┌─────────────┐»\n",
      "«   q_1: ───────■─────────┼────┼───────┤ X ├─────┤ X ├┤ RY(Theta17) ├»\n",
      "«        ┌─────────────┐  │    │       └─┬─┘     └─┬─┘└────┬───┬────┘»\n",
      "«   q_2: ┤ RY(Theta14) ├──■────┼─────────■─────────┼───────┤ X ├─────»\n",
      "«        ├─────────────┤       │                   │       └─┬─┘     »\n",
      "«   q_3: ┤ RY(Theta15) ├───────■───────────────────■─────────■───────»\n",
      "«        └─────────────┘                                             »\n",
      "«meas_0: ════════════════════════════════════════════════════════════»\n",
      "«                                                                    »\n",
      "«meas_1: ════════════════════════════════════════════════════════════»\n",
      "«                                                                    »\n",
      "«meas_2: ════════════════════════════════════════════════════════════»\n",
      "«                                                                    »\n",
      "«meas_3: ════════════════════════════════════════════════════════════»\n",
      "«                                                                    »\n",
      "«                        ░ ┌─┐         \n",
      "«   q_0: ────────────────░─┤M├─────────\n",
      "«                        ░ └╥┘┌─┐      \n",
      "«   q_1: ────────────────░──╫─┤M├──────\n",
      "«        ┌─────────────┐ ░  ║ └╥┘┌─┐   \n",
      "«   q_2: ┤ RY(Theta18) ├─░──╫──╫─┤M├───\n",
      "«        ├─────────────┤ ░  ║  ║ └╥┘┌─┐\n",
      "«   q_3: ┤ RY(Theta19) ├─░──╫──╫──╫─┤M├\n",
      "«        └─────────────┘ ░  ║  ║  ║ └╥┘\n",
      "«meas_0: ═══════════════════╩══╬══╬══╬═\n",
      "«                              ║  ║  ║ \n",
      "«meas_1: ══════════════════════╩══╬══╬═\n",
      "«                                 ║  ║ \n",
      "«meas_2: ═════════════════════════╩══╬═\n",
      "«                                    ║ \n",
      "«meas_3: ════════════════════════════╩═\n",
      "«                                      \n",
      "Printing Quantum Circuit Parameters\n",
      "[*] Number of Qubits:   4\n",
      "[*] Number of R Layers: 5\n",
      "[*] Number of Outputs:  16\n",
      "[*] Number of Shots:    1\n"
     ]
    }
   ],
   "source": [
    "print('Initialize Quantum Hybrid Neural Network')\n",
    "circuit = QiskitCircuit()\n",
    "network = HybridNet()\n",
    "\n",
    "optimizer = optim.SGD(network.parameters(), lr=LEARNING_RATE, momentum = MOMENTUM)\n",
    "criterion = nn.CrossEntropyLoss()\n",
    "\n",
    "print('Printing Quantum Circuit')\n",
    "print(circuit.circuit.draw(output='text', scale=1/NUM_LAYERS))\n",
    "\n",
    "print('Printing Quantum Circuit Parameters')\n",
    "print('[*] Number of Qubits:   {}'.format(NUM_QUBITS))\n",
    "print('[*] Number of R Layers: {}'.format(NUM_LAYERS))\n",
    "print('[*] Number of Outputs:  {}'.format(NUM_QC_OUTPUTS))\n",
    "print('[*] Number of Shots:    {}'.format(NUM_SHOTS))\n",
    "\n",
    "# This class wrap a PyTorch model. It is only needed to mask basic function, like model training.\n",
    "model = PyTorchModel(network, criterion, optimizer)"
   ]
  },
  {
   "cell_type": "markdown",
   "metadata": {
    "id": "_2YI-al-om9S"
   },
   "source": [
    "Fit the model"
   ]
  },
  {
   "cell_type": "code",
   "execution_count": 4,
   "metadata": {
    "colab": {
     "base_uri": "https://localhost:8080/",
     "height": 49,
     "referenced_widgets": [
      "48576261fe144fdaa374ee08c394cfbb",
      "91d5b9f421604d7e90b20c4d7811624d",
      "82cc703e5c554128b4cdbbd44ac8c73e",
      "2857cfa6dac64cfb9baacac75b6978a3",
      "903c1b6460724b4ba9cb11f539ba61d8",
      "20d9562a75344c7a963dec4621d77011",
      "d77279690b2448538e6bb8a5020d5d9f",
      "dec962f9307f489db59f033685f62f1c",
      "4a638c000d5f4336b071160ee713c9a3",
      "dac7316dca0340deb5be5f27fba728f1",
      "4b0036670d2a411a951f9ab7cd078c94"
     ]
    },
    "id": "E9yPZBO4om9T",
    "outputId": "eb95c499-4bb7-4f9d-fd40-262bbf592cb6"
   },
   "outputs": [
    {
     "ename": "NameError",
     "evalue": "name 'tra_imgs' is not defined",
     "output_type": "error",
     "traceback": [
      "\u001b[1;31m---------------------------------------------------------------------------\u001b[0m",
      "\u001b[1;31mNameError\u001b[0m                                 Traceback (most recent call last)",
      "Cell \u001b[1;32mIn[4], line 1\u001b[0m\n\u001b[1;32m----> 1\u001b[0m tra_set \u001b[38;5;241m=\u001b[39m [\u001b[43mtra_imgs\u001b[49m, tra_lbls]\n\u001b[0;32m      2\u001b[0m val_set \u001b[38;5;241m=\u001b[39m [val_imgs, val_lbls]\n\u001b[0;32m      3\u001b[0m model\u001b[38;5;241m.\u001b[39mfit(EPOCHS, tra_set, val_set, classes, batch_size\u001b[38;5;241m=\u001b[39mBATCH_SIZE, es\u001b[38;5;241m=\u001b[39m\u001b[38;5;28;01mNone\u001b[39;00m, tra_size \u001b[38;5;241m=\u001b[39m \u001b[38;5;28;01mNone\u001b[39;00m, val_size \u001b[38;5;241m=\u001b[39m \u001b[38;5;28;01mNone\u001b[39;00m)\n",
      "\u001b[1;31mNameError\u001b[0m: name 'tra_imgs' is not defined"
     ]
    }
   ],
   "source": [
    "tra_set = [tra_imgs, tra_lbls]\n",
    "val_set = [val_imgs, val_lbls]\n",
    "model.fit(EPOCHS, tra_set, val_set, classes, batch_size=BATCH_SIZE, es=None, tra_size = None, val_size = None)"
   ]
  },
  {
   "cell_type": "code",
   "execution_count": null,
   "metadata": {
    "id": "uUrCtEp7om9T"
   },
   "outputs": [],
   "source": [
    "model.curves()"
   ]
  }
 ],
 "metadata": {
  "author": "alessandro.sebastianelli@esa.int",
  "colab": {
   "provenance": []
  },
  "description": "An implementation of an hybrid quantum convolutional neural network for EO land cover multiclass classification",
  "image": "https://ieeexplore.ieee.org/mediastore_new/IEEE/content/media/4609443/9656571/9647979/sebas9-3134785-large.gif",
  "kernelspec": {
   "display_name": "Python 3 (ipykernel)",
   "language": "python",
   "name": "python3"
  },
  "language_info": {
   "codemirror_mode": {
    "name": "ipython",
    "version": 3
   },
   "file_extension": ".py",
   "mimetype": "text/x-python",
   "name": "python",
   "nbconvert_exporter": "python",
   "pygments_lexer": "ipython3",
   "version": "3.8.16"
  },
  "tags": {
   "category": "Quantum Computing for Earth Observation",
   "type": "Notebook"
  },
  "title": "Hybrid Quantum Neural Networks for Remote Sensing Imagery Classification",
  "widgets": {
   "application/vnd.jupyter.widget-state+json": {
    "20d9562a75344c7a963dec4621d77011": {
     "model_module": "@jupyter-widgets/base",
     "model_module_version": "1.2.0",
     "model_name": "LayoutModel",
     "state": {
      "_model_module": "@jupyter-widgets/base",
      "_model_module_version": "1.2.0",
      "_model_name": "LayoutModel",
      "_view_count": null,
      "_view_module": "@jupyter-widgets/base",
      "_view_module_version": "1.2.0",
      "_view_name": "LayoutView",
      "align_content": null,
      "align_items": null,
      "align_self": null,
      "border": null,
      "bottom": null,
      "display": null,
      "flex": null,
      "flex_flow": null,
      "grid_area": null,
      "grid_auto_columns": null,
      "grid_auto_flow": null,
      "grid_auto_rows": null,
      "grid_column": null,
      "grid_gap": null,
      "grid_row": null,
      "grid_template_areas": null,
      "grid_template_columns": null,
      "grid_template_rows": null,
      "height": null,
      "justify_content": null,
      "justify_items": null,
      "left": null,
      "margin": null,
      "max_height": null,
      "max_width": null,
      "min_height": null,
      "min_width": null,
      "object_fit": null,
      "object_position": null,
      "order": null,
      "overflow": null,
      "overflow_x": null,
      "overflow_y": null,
      "padding": null,
      "right": null,
      "top": null,
      "visibility": null,
      "width": null
     }
    },
    "2857cfa6dac64cfb9baacac75b6978a3": {
     "model_module": "@jupyter-widgets/controls",
     "model_module_version": "1.5.0",
     "model_name": "HTMLModel",
     "state": {
      "_dom_classes": [],
      "_model_module": "@jupyter-widgets/controls",
      "_model_module_version": "1.5.0",
      "_model_name": "HTMLModel",
      "_view_count": null,
      "_view_module": "@jupyter-widgets/controls",
      "_view_module_version": "1.5.0",
      "_view_name": "HTMLView",
      "description": "",
      "description_tooltip": null,
      "layout": "IPY_MODEL_dac7316dca0340deb5be5f27fba728f1",
      "placeholder": "​",
      "style": "IPY_MODEL_4b0036670d2a411a951f9ab7cd078c94",
      "value": " 0/20 [00:59&lt;?, ?it/s]"
     }
    },
    "48576261fe144fdaa374ee08c394cfbb": {
     "model_module": "@jupyter-widgets/controls",
     "model_module_version": "1.5.0",
     "model_name": "HBoxModel",
     "state": {
      "_dom_classes": [],
      "_model_module": "@jupyter-widgets/controls",
      "_model_module_version": "1.5.0",
      "_model_name": "HBoxModel",
      "_view_count": null,
      "_view_module": "@jupyter-widgets/controls",
      "_view_module_version": "1.5.0",
      "_view_name": "HBoxView",
      "box_style": "",
      "children": [
       "IPY_MODEL_91d5b9f421604d7e90b20c4d7811624d",
       "IPY_MODEL_82cc703e5c554128b4cdbbd44ac8c73e",
       "IPY_MODEL_2857cfa6dac64cfb9baacac75b6978a3"
      ],
      "layout": "IPY_MODEL_903c1b6460724b4ba9cb11f539ba61d8"
     }
    },
    "4a638c000d5f4336b071160ee713c9a3": {
     "model_module": "@jupyter-widgets/controls",
     "model_module_version": "1.5.0",
     "model_name": "ProgressStyleModel",
     "state": {
      "_model_module": "@jupyter-widgets/controls",
      "_model_module_version": "1.5.0",
      "_model_name": "ProgressStyleModel",
      "_view_count": null,
      "_view_module": "@jupyter-widgets/base",
      "_view_module_version": "1.2.0",
      "_view_name": "StyleView",
      "bar_color": null,
      "description_width": ""
     }
    },
    "4b0036670d2a411a951f9ab7cd078c94": {
     "model_module": "@jupyter-widgets/controls",
     "model_module_version": "1.5.0",
     "model_name": "DescriptionStyleModel",
     "state": {
      "_model_module": "@jupyter-widgets/controls",
      "_model_module_version": "1.5.0",
      "_model_name": "DescriptionStyleModel",
      "_view_count": null,
      "_view_module": "@jupyter-widgets/base",
      "_view_module_version": "1.2.0",
      "_view_name": "StyleView",
      "description_width": ""
     }
    },
    "82cc703e5c554128b4cdbbd44ac8c73e": {
     "model_module": "@jupyter-widgets/controls",
     "model_module_version": "1.5.0",
     "model_name": "FloatProgressModel",
     "state": {
      "_dom_classes": [],
      "_model_module": "@jupyter-widgets/controls",
      "_model_module_version": "1.5.0",
      "_model_name": "FloatProgressModel",
      "_view_count": null,
      "_view_module": "@jupyter-widgets/controls",
      "_view_module_version": "1.5.0",
      "_view_name": "ProgressView",
      "bar_style": "",
      "description": "",
      "description_tooltip": null,
      "layout": "IPY_MODEL_dec962f9307f489db59f033685f62f1c",
      "max": 20,
      "min": 0,
      "orientation": "horizontal",
      "style": "IPY_MODEL_4a638c000d5f4336b071160ee713c9a3",
      "value": 0
     }
    },
    "903c1b6460724b4ba9cb11f539ba61d8": {
     "model_module": "@jupyter-widgets/base",
     "model_module_version": "1.2.0",
     "model_name": "LayoutModel",
     "state": {
      "_model_module": "@jupyter-widgets/base",
      "_model_module_version": "1.2.0",
      "_model_name": "LayoutModel",
      "_view_count": null,
      "_view_module": "@jupyter-widgets/base",
      "_view_module_version": "1.2.0",
      "_view_name": "LayoutView",
      "align_content": null,
      "align_items": null,
      "align_self": null,
      "border": null,
      "bottom": null,
      "display": "inline-flex",
      "flex": null,
      "flex_flow": "row wrap",
      "grid_area": null,
      "grid_auto_columns": null,
      "grid_auto_flow": null,
      "grid_auto_rows": null,
      "grid_column": null,
      "grid_gap": null,
      "grid_row": null,
      "grid_template_areas": null,
      "grid_template_columns": null,
      "grid_template_rows": null,
      "height": null,
      "justify_content": null,
      "justify_items": null,
      "left": null,
      "margin": null,
      "max_height": null,
      "max_width": null,
      "min_height": null,
      "min_width": null,
      "object_fit": null,
      "object_position": null,
      "order": null,
      "overflow": null,
      "overflow_x": null,
      "overflow_y": null,
      "padding": null,
      "right": null,
      "top": null,
      "visibility": null,
      "width": "100%"
     }
    },
    "91d5b9f421604d7e90b20c4d7811624d": {
     "model_module": "@jupyter-widgets/controls",
     "model_module_version": "1.5.0",
     "model_name": "HTMLModel",
     "state": {
      "_dom_classes": [],
      "_model_module": "@jupyter-widgets/controls",
      "_model_module_version": "1.5.0",
      "_model_name": "HTMLModel",
      "_view_count": null,
      "_view_module": "@jupyter-widgets/controls",
      "_view_module_version": "1.5.0",
      "_view_name": "HTMLView",
      "description": "",
      "description_tooltip": null,
      "layout": "IPY_MODEL_20d9562a75344c7a963dec4621d77011",
      "placeholder": "​",
      "style": "IPY_MODEL_d77279690b2448538e6bb8a5020d5d9f",
      "value": "Train - [E 1/20 s 1] [B 334/4800 - B Loss 1.6836] - T Loss 0.0000 - V Loss 0.0000:   0%"
     }
    },
    "d77279690b2448538e6bb8a5020d5d9f": {
     "model_module": "@jupyter-widgets/controls",
     "model_module_version": "1.5.0",
     "model_name": "DescriptionStyleModel",
     "state": {
      "_model_module": "@jupyter-widgets/controls",
      "_model_module_version": "1.5.0",
      "_model_name": "DescriptionStyleModel",
      "_view_count": null,
      "_view_module": "@jupyter-widgets/base",
      "_view_module_version": "1.2.0",
      "_view_name": "StyleView",
      "description_width": ""
     }
    },
    "dac7316dca0340deb5be5f27fba728f1": {
     "model_module": "@jupyter-widgets/base",
     "model_module_version": "1.2.0",
     "model_name": "LayoutModel",
     "state": {
      "_model_module": "@jupyter-widgets/base",
      "_model_module_version": "1.2.0",
      "_model_name": "LayoutModel",
      "_view_count": null,
      "_view_module": "@jupyter-widgets/base",
      "_view_module_version": "1.2.0",
      "_view_name": "LayoutView",
      "align_content": null,
      "align_items": null,
      "align_self": null,
      "border": null,
      "bottom": null,
      "display": null,
      "flex": null,
      "flex_flow": null,
      "grid_area": null,
      "grid_auto_columns": null,
      "grid_auto_flow": null,
      "grid_auto_rows": null,
      "grid_column": null,
      "grid_gap": null,
      "grid_row": null,
      "grid_template_areas": null,
      "grid_template_columns": null,
      "grid_template_rows": null,
      "height": null,
      "justify_content": null,
      "justify_items": null,
      "left": null,
      "margin": null,
      "max_height": null,
      "max_width": null,
      "min_height": null,
      "min_width": null,
      "object_fit": null,
      "object_position": null,
      "order": null,
      "overflow": null,
      "overflow_x": null,
      "overflow_y": null,
      "padding": null,
      "right": null,
      "top": null,
      "visibility": null,
      "width": null
     }
    },
    "dec962f9307f489db59f033685f62f1c": {
     "model_module": "@jupyter-widgets/base",
     "model_module_version": "1.2.0",
     "model_name": "LayoutModel",
     "state": {
      "_model_module": "@jupyter-widgets/base",
      "_model_module_version": "1.2.0",
      "_model_name": "LayoutModel",
      "_view_count": null,
      "_view_module": "@jupyter-widgets/base",
      "_view_module_version": "1.2.0",
      "_view_name": "LayoutView",
      "align_content": null,
      "align_items": null,
      "align_self": null,
      "border": null,
      "bottom": null,
      "display": null,
      "flex": "2",
      "flex_flow": null,
      "grid_area": null,
      "grid_auto_columns": null,
      "grid_auto_flow": null,
      "grid_auto_rows": null,
      "grid_column": null,
      "grid_gap": null,
      "grid_row": null,
      "grid_template_areas": null,
      "grid_template_columns": null,
      "grid_template_rows": null,
      "height": null,
      "justify_content": null,
      "justify_items": null,
      "left": null,
      "margin": null,
      "max_height": null,
      "max_width": null,
      "min_height": null,
      "min_width": null,
      "object_fit": null,
      "object_position": null,
      "order": null,
      "overflow": null,
      "overflow_x": null,
      "overflow_y": null,
      "padding": null,
      "right": null,
      "top": null,
      "visibility": null,
      "width": null
     }
    }
   }
  }
 },
 "nbformat": 4,
 "nbformat_minor": 4
}
