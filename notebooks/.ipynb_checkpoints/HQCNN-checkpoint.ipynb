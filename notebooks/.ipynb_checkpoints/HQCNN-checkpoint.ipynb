{
 "cells": [
  {
   "cell_type": "markdown",
   "metadata": {
    "id": "Gb0Sogigom9N"
   },
   "source": [
    "# Hybrid Quantum Convolutional Neural Netwoks for Earth Observation Classification\n",
    "![](https://ieeexplore.ieee.org/mediastore_new/IEEE/content/media/4609443/9656571/9647979/sebas9-3134785-large.gif)\n",
    "\n",
    "\n",
    "Please refer to the following articles to get more insight about this topic:\n",
    "    - Sebastianelli, A., Zaidenberg, D. A., Spiller, D., Le Saux, B., & Ullo, S. L. (2021). On circuit-based hybrid quantum neural networks for remote sensing imagery classification. IEEE Journal of Selected Topics in Applied Earth Observations and Remote Sensing, 15, 565-580.\n",
    "    - Zaidenberg, D. A., Sebastianelli, A., Spiller, D., Le Saux, B., & Ullo, S. L. (2021, July). Advantages and bottlenecks of quantum machine learning for remote sensing. In 2021 IEEE International Geoscience and Remote Sensing Symposium IGARSS (pp. 5680-5683). IEEE.\n",
    "    - Eurosat: A novel dataset and deep learning benchmark for land use and land cover classification. Patrick Helber, Benjamin Bischke, Andreas Dengel, Damian Borth. IEEE Journal of Selected Topics in Applied Earth Observations and Remote Sensing, 2019.\n",
    "    - Introducing EuroSAT: A Novel Dataset and Deep Learning Benchmark for Land Use and Land Cover Classification. Patrick Helber, Benjamin Bischke, Andreas Dengel. 2018 IEEE International Geoscience and Remote Sensing Symposium, 2018.\n",
    "    - https://qiskit.org/documentation/machine-learning/tutorials/index.html\n",
    "    - https://pennylane.ai/qml/demos_qml.html\n"
   ]
  },
  {
   "cell_type": "markdown",
   "metadata": {
    "id": "7YQNPYERPYB5"
   },
   "source": [
    "# Download the dataset\n",
    "\n",
    "In this study, we address the challenge of land use and land cover classification using Sentinel-2 satellite images. The Sentinel-2 satellite images are openly and freely accessible provided in the Earth observation program Copernicus. We present a novel dataset based on Sentinel-2 satellite images covering 13 spectral bands and consisting out of 10 classes with in total 27,000 labeled and geo-referenced images. We provide benchmarks for this novel dataset with its spectral bands using state-of-the-art deep Convolutional Neural Network (CNNs). With the proposed novel dataset, we achieved an overall classification accuracy of 98.57%. The resulting classification system opens a gate towards a number of Earth observation applications. We demonstrate how this classification system can be used for detecting land use and land cover changes and how it can assist in improving geographical maps.\n",
    "\n",
    "Get more information [here](https://github.com/phelber/EuroSAT).\n",
    "\n",
    "![](https://github.com/phelber/EuroSAT/blob/master/eurosat_overview_small.jpg?raw=true)\n",
    "\n",
    "\n"
   ]
  },
  {
   "cell_type": "markdown",
   "metadata": {
    "id": "X5Oxrys2om9P"
   },
   "source": [
    "For this tutorial we are using the EuroSAT RGB dataset, accessible via wget. The following cell takes care of downloading, unzipping and preparing the dataset."
   ]
  },
  {
   "cell_type": "code",
   "execution_count": 4,
   "metadata": {
    "colab": {
     "base_uri": "https://localhost:8080/"
    },
    "id": "o4c7cM2_KoTy",
    "outputId": "aac24c34-26ef-4aeb-847b-f18d11ec2d9e",
    "tags": []
   },
   "outputs": [
    {
     "name": "stderr",
     "output_type": "stream",
     "text": [
      "'rm' is not recognized as an internal or external command,\n",
      "operable program or batch file.\n",
      "'rm' is not recognized as an internal or external command,\n",
      "operable program or batch file.\n",
      "'wget' is not recognized as an internal or external command,\n",
      "operable program or batch file.\n",
      "'unzip' is not recognized as an internal or external command,\n",
      "operable program or batch file.\n",
      "'mv' is not recognized as an internal or external command,\n",
      "operable program or batch file.\n",
      "'ls' is not recognized as an internal or external command,\n",
      "operable program or batch file.\n"
     ]
    }
   ],
   "source": [
    "!rm -r /content/EuroSAT.zip\n",
    "!rm -r /content/EuroSAT\n",
    "!wget https://madm.dfki.de/files/sentinel/EuroSAT.zip --no-check-certificate\n",
    "!unzip -q /content/EuroSAT.zip\n",
    "!mv 2750 EuroSAT\n",
    "!ls -l /content/EuroSAT"
   ]
  },
  {
   "cell_type": "code",
   "execution_count": null,
   "metadata": {},
   "outputs": [],
   "source": [
    "!powershell rm -r /content/EuroSAT.zip\n",
    "!rm -r /content/EuroSAT\n",
    "!wget https://madm.dfki.de/files/sentinel/EuroSAT.zip --no-check-certificate\n",
    "!unzip -q /content/EuroSAT.zip\n",
    "!mv 2750 EuroSAT\n",
    "!ls -l /content/EuroSAT"
   ]
  },
  {
   "cell_type": "markdown",
   "metadata": {
    "id": "N2nXraWwom9P"
   },
   "source": [
    "Jump this step if you want to run multiclass classification"
   ]
  },
  {
   "cell_type": "code",
   "execution_count": 2,
   "metadata": {
    "id": "rl5Z9cBxom9P",
    "tags": []
   },
   "outputs": [
    {
     "name": "stderr",
     "output_type": "stream",
     "text": [
      "'rm' is not recognized as an internal or external command,\n",
      "operable program or batch file.\n",
      "'rm' is not recognized as an internal or external command,\n",
      "operable program or batch file.\n",
      "'rm' is not recognized as an internal or external command,\n",
      "operable program or batch file.\n",
      "'rm' is not recognized as an internal or external command,\n",
      "operable program or batch file.\n",
      "'rm' is not recognized as an internal or external command,\n",
      "operable program or batch file.\n",
      "'rm' is not recognized as an internal or external command,\n",
      "operable program or batch file.\n",
      "'rm' is not recognized as an internal or external command,\n",
      "operable program or batch file.\n",
      "'rm' is not recognized as an internal or external command,\n",
      "operable program or batch file.\n"
     ]
    }
   ],
   "source": [
    "!rm -r /content/EuroSAT/Forest\n",
    "#!rm -r /content/EuroSAT/AnnualCrop\n",
    "!rm -r /content/EuroSAT/HerbaceousVegetation\n",
    "!rm -r /content/EuroSAT/Highway\n",
    "!rm -r /content/EuroSAT/Industrial\n",
    "!rm -r /content/EuroSAT/Pasture\n",
    "!rm -r /content/EuroSAT/PermanentCrop\n",
    "#!rm -r /content/EuroSAT/Residential\n",
    "!rm -r /content/EuroSAT/River\n",
    "!rm -r /content/EuroSAT/SeaLake"
   ]
  },
  {
   "cell_type": "markdown",
   "metadata": {
    "id": "rY_6YyKhCfsq"
   },
   "source": [
    "## Cloning repository with base code\n",
    "Basic functions are wrapped in seprated files to keep the notebook clean. Feel free to explore the code."
   ]
  },
  {
   "cell_type": "code",
   "execution_count": 3,
   "metadata": {
    "colab": {
     "base_uri": "https://localhost:8080/"
    },
    "id": "N5BPHQzVCj-U",
    "outputId": "c72873df-3d0f-4e26-fd30-924e545089f5",
    "tags": []
   },
   "outputs": [
    {
     "name": "stderr",
     "output_type": "stream",
     "text": [
      "'rm' is not recognized as an internal or external command,\n",
      "operable program or batch file.\n",
      "Cloning into 'QML-tutorial'...\n"
     ]
    }
   ],
   "source": [
    "# import sys\n",
    "# !rm -r /content/QML-tutorial\n",
    "# !git clone https://github.com/alessandrosebastianelli/QML-tutorial.git\n",
    "# if '/content/QML-tutorial' not in sys.path: sys.path.append('/content/QML-tutorial')"
   ]
  },
  {
   "cell_type": "markdown",
   "metadata": {
    "id": "DnbQLUEGom9Q"
   },
   "source": [
    "## Install missing packages"
   ]
  },
  {
   "cell_type": "code",
   "execution_count": null,
   "metadata": {
    "id": "I5onxOGy7L-b"
   },
   "outputs": [],
   "source": [
    "# !pip install -q qiskit==0.19.0 torchinfo"
   ]
  },
  {
   "cell_type": "markdown",
   "metadata": {
    "id": "hWThPDKS7WAi"
   },
   "source": [
    "# Network train and validation"
   ]
  },
  {
   "cell_type": "code",
   "execution_count": null,
   "metadata": {
    "id": "Dps5FgGHmnPr"
   },
   "outputs": [],
   "source": [
    "# Suppressing warning\n",
    "import warnings\n",
    "warnings.filterwarnings('ignore')\n",
    "\n",
    "from utils.DatasetHandler import DatasetHandler\n",
    "from qc.QiskitCircuit import QiskitCircuit\n",
    "from models.HybridNet import HybridNet\n",
    "from models.PyTorchModel import PyTorchModel\n",
    "\n",
    "# Configuration file, please read it carefully\n",
    "from config import *\n",
    "\n",
    "import torch.optim as optim\n",
    "import torch.nn as nn\n",
    "import torch\n",
    "import os\n",
    "\n",
    "\n",
    "# Allows to reload modified code without restarting the kernel\n",
    "%load_ext autoreload\n",
    "%autoreload 2"
   ]
  },
  {
   "cell_type": "markdown",
   "metadata": {
    "id": "zI9hoHbUom9S"
   },
   "source": [
    "Load the dataset"
   ]
  },
  {
   "cell_type": "code",
   "execution_count": 3,
   "metadata": {
    "colab": {
     "base_uri": "https://localhost:8080/"
    },
    "id": "zGcMqkxq7DOe",
    "outputId": "6a0798b7-f7c5-44cc-d3bc-5cc0fd951e0b"
   },
   "outputs": [
    {
     "name": "stdout",
     "output_type": "stream",
     "text": [
      "Loading Dataset\n",
      "[*] Classes: ['AnnualCrop', 'Residential']\n",
      "[*] Size: 6000\n",
      "[*] Training Size:   4800\n",
      "[*] Validation Size: 1200\n"
     ]
    }
   ],
   "source": [
    "################################ Initialize Dataset Handler ################################\n",
    "################################ and print classes          ################################\n",
    "print('Loading Dataset')\n",
    "dh = DatasetHandler(DATASET_ROOT)\n",
    "\n",
    "classes = []\n",
    "for i, c in enumerate(dh.classes):\n",
    "    cl = c.split(os.path.sep)[-1]\n",
    "    classes.append(cl)\n",
    "classes.sort()\n",
    "print('[*] Classes: {}'.format(classes))\n",
    "\n",
    "################################ Load image paths and labels ################################\n",
    "imgs, labels = dh.load_paths_labels(DATASET_ROOT, classes=classes)\n",
    "print('[*] Size: {}'.format(len(imgs)))\n",
    "\n",
    "################################# Training-Validation Split #################################\n",
    "tra_imgs, tra_lbls, val_imgs, val_lbls = dh.train_validation_split(imgs, labels, SPLIT_FACTOR)\n",
    "print('[*] Training Size:   {}'.format(len(tra_imgs)))\n",
    "print('[*] Validation Size: {}'.format(len(val_imgs)))"
   ]
  },
  {
   "cell_type": "markdown",
   "metadata": {
    "id": "_3JjTDixom9S"
   },
   "source": [
    "Initialize hybrid model"
   ]
  },
  {
   "cell_type": "code",
   "execution_count": 4,
   "metadata": {
    "colab": {
     "base_uri": "https://localhost:8080/"
    },
    "id": "z3LYqtYxBUPW",
    "outputId": "b1505930-b9e4-4230-df44-867d2eff2c1c"
   },
   "outputs": [
    {
     "name": "stdout",
     "output_type": "stream",
     "text": [
      "Initialize Quantum Hybrid Neural Network\n",
      "Printing Quantum Circuit\n",
      "        ┌───┐ ░ ┌────────────┐┌───┐┌───┐┌───┐┌────────────┐                   »\n",
      "   q_0: ┤ H ├─░─┤ RY(Theta0) ├┤ X ├┤ X ├┤ X ├┤ RY(Theta4) ├───────────────────»\n",
      "        ├───┤ ░ ├────────────┤└─┬─┘└─┬─┘└─┬─┘└───┬───┬────┘┌───┐┌────────────┐»\n",
      "   q_1: ┤ H ├─░─┤ RY(Theta1) ├──■────┼────┼──────┤ X ├─────┤ X ├┤ RY(Theta5) ├»\n",
      "        ├───┤ ░ ├────────────┤       │    │      └─┬─┘     └─┬─┘└───┬───┬────┘»\n",
      "   q_2: ┤ H ├─░─┤ RY(Theta2) ├───────■────┼────────■─────────┼──────┤ X ├─────»\n",
      "        ├───┤ ░ ├────────────┤            │                  │      └─┬─┘     »\n",
      "   q_3: ┤ H ├─░─┤ RY(Theta3) ├────────────■──────────────────■────────■───────»\n",
      "        └───┘ ░ └────────────┘                                                »\n",
      "meas_0: ══════════════════════════════════════════════════════════════════════»\n",
      "                                                                              »\n",
      "meas_1: ══════════════════════════════════════════════════════════════════════»\n",
      "                                                                              »\n",
      "meas_2: ══════════════════════════════════════════════════════════════════════»\n",
      "                                                                              »\n",
      "meas_3: ══════════════════════════════════════════════════════════════════════»\n",
      "                                                                              »\n",
      "«                       ░ ┌─┐         \n",
      "«   q_0: ───────────────░─┤M├─────────\n",
      "«                       ░ └╥┘┌─┐      \n",
      "«   q_1: ───────────────░──╫─┤M├──────\n",
      "«        ┌────────────┐ ░  ║ └╥┘┌─┐   \n",
      "«   q_2: ┤ RY(Theta6) ├─░──╫──╫─┤M├───\n",
      "«        ├────────────┤ ░  ║  ║ └╥┘┌─┐\n",
      "«   q_3: ┤ RY(Theta7) ├─░──╫──╫──╫─┤M├\n",
      "«        └────────────┘ ░  ║  ║  ║ └╥┘\n",
      "«meas_0: ══════════════════╩══╬══╬══╬═\n",
      "«                             ║  ║  ║ \n",
      "«meas_1: ═════════════════════╩══╬══╬═\n",
      "«                                ║  ║ \n",
      "«meas_2: ════════════════════════╩══╬═\n",
      "«                                   ║ \n",
      "«meas_3: ═══════════════════════════╩═\n",
      "«                                     \n",
      "Printing Quantum Circuit Parameters\n",
      "[*] Number of Qubits:   4\n",
      "[*] Number of R Layers: 2\n",
      "[*] Number of Outputs:  16\n",
      "[*] Number of Shots:    1\n"
     ]
    }
   ],
   "source": [
    "print('Initialize Quantum Hybrid Neural Network')\n",
    "circuit = QiskitCircuit()\n",
    "network = HybridNet()\n",
    "\n",
    "optimizer = optim.SGD(network.parameters(), lr=LEARNING_RATE, momentum = MOMENTUM)\n",
    "criterion = nn.CrossEntropyLoss()\n",
    "\n",
    "print('Printing Quantum Circuit')\n",
    "print(circuit.circuit.draw(output='text', scale=1/NUM_LAYERS))\n",
    "\n",
    "print('Printing Quantum Circuit Parameters')\n",
    "print('[*] Number of Qubits:   {}'.format(NUM_QUBITS))\n",
    "print('[*] Number of R Layers: {}'.format(NUM_LAYERS))\n",
    "print('[*] Number of Outputs:  {}'.format(NUM_QC_OUTPUTS))\n",
    "print('[*] Number of Shots:    {}'.format(NUM_SHOTS))\n",
    "\n",
    "# This class wrap a PyTorch model. It is only needed to mask basic function, like model training.\n",
    "model = PyTorchModel(network, criterion, optimizer)"
   ]
  },
  {
   "cell_type": "markdown",
   "metadata": {
    "id": "_2YI-al-om9S"
   },
   "source": [
    "Fit the model"
   ]
  },
  {
   "cell_type": "code",
   "execution_count": null,
   "metadata": {
    "colab": {
     "base_uri": "https://localhost:8080/",
     "height": 49,
     "referenced_widgets": [
      "48576261fe144fdaa374ee08c394cfbb",
      "91d5b9f421604d7e90b20c4d7811624d",
      "82cc703e5c554128b4cdbbd44ac8c73e",
      "2857cfa6dac64cfb9baacac75b6978a3",
      "903c1b6460724b4ba9cb11f539ba61d8",
      "20d9562a75344c7a963dec4621d77011",
      "d77279690b2448538e6bb8a5020d5d9f",
      "dec962f9307f489db59f033685f62f1c",
      "4a638c000d5f4336b071160ee713c9a3",
      "dac7316dca0340deb5be5f27fba728f1",
      "4b0036670d2a411a951f9ab7cd078c94"
     ]
    },
    "id": "E9yPZBO4om9T",
    "outputId": "eb95c499-4bb7-4f9d-fd40-262bbf592cb6"
   },
   "outputs": [
    {
     "data": {
      "application/vnd.jupyter.widget-view+json": {
       "model_id": "48576261fe144fdaa374ee08c394cfbb",
       "version_major": 2,
       "version_minor": 0
      },
      "text/plain": [
       "  0%|          | 0/20 [00:00<?, ?it/s]"
      ]
     },
     "metadata": {},
     "output_type": "display_data"
    }
   ],
   "source": [
    "tra_set = [tra_imgs, tra_lbls]\n",
    "val_set = [val_imgs, val_lbls]\n",
    "model.fit(EPOCHS, tra_set, val_set, classes, batch_size=BATCH_SIZE, es=None, tra_size = None, val_size = None)"
   ]
  },
  {
   "cell_type": "code",
   "execution_count": null,
   "metadata": {
    "id": "uUrCtEp7om9T"
   },
   "outputs": [],
   "source": [
    "model.curves()"
   ]
  },
  {
   "cell_type": "code",
   "execution_count": null,
   "metadata": {
    "id": "I50usU_LtDxj"
   },
   "outputs": [],
   "source": []
  }
 ],
 "metadata": {
    "description": "An implementation of an hybrid quantum convolutional neural network for EO land cover multiclass classification",
  "title": "Hybrid Quantum Neural Networks for Remote Sensing Imagery Classification",
  "image": "https://ieeexplore.ieee.org/mediastore_new/IEEE/content/media/4609443/9656571/9647979/sebas9-3134785-large.gif",
  "author": "alessandro.sebastianelli@esa.int",
  "tags": {
    "category": "Quantum Computing for Earth Observation",
    "type": "Notebook"
    },
  "colab": {
   "provenance": []
  },
  "kernelspec": {
   "display_name": "Python 3 (ipykernel)",
   "language": "python",
   "name": "python3"
  },
  "language_info": {
   "codemirror_mode": {
    "name": "ipython",
    "version": 3
   },
   "file_extension": ".py",
   "mimetype": "text/x-python",
   "name": "python",
   "nbconvert_exporter": "python",
   "pygments_lexer": "ipython3",
   "version": "3.9.13"
  },
  "widgets": {
   "application/vnd.jupyter.widget-state+json": {
    "20d9562a75344c7a963dec4621d77011": {
     "model_module": "@jupyter-widgets/base",
     "model_module_version": "1.2.0",
     "model_name": "LayoutModel",
     "state": {
      "_model_module": "@jupyter-widgets/base",
      "_model_module_version": "1.2.0",
      "_model_name": "LayoutModel",
      "_view_count": null,
      "_view_module": "@jupyter-widgets/base",
      "_view_module_version": "1.2.0",
      "_view_name": "LayoutView",
      "align_content": null,
      "align_items": null,
      "align_self": null,
      "border": null,
      "bottom": null,
      "display": null,
      "flex": null,
      "flex_flow": null,
      "grid_area": null,
      "grid_auto_columns": null,
      "grid_auto_flow": null,
      "grid_auto_rows": null,
      "grid_column": null,
      "grid_gap": null,
      "grid_row": null,
      "grid_template_areas": null,
      "grid_template_columns": null,
      "grid_template_rows": null,
      "height": null,
      "justify_content": null,
      "justify_items": null,
      "left": null,
      "margin": null,
      "max_height": null,
      "max_width": null,
      "min_height": null,
      "min_width": null,
      "object_fit": null,
      "object_position": null,
      "order": null,
      "overflow": null,
      "overflow_x": null,
      "overflow_y": null,
      "padding": null,
      "right": null,
      "top": null,
      "visibility": null,
      "width": null
     }
    },
    "2857cfa6dac64cfb9baacac75b6978a3": {
     "model_module": "@jupyter-widgets/controls",
     "model_module_version": "1.5.0",
     "model_name": "HTMLModel",
     "state": {
      "_dom_classes": [],
      "_model_module": "@jupyter-widgets/controls",
      "_model_module_version": "1.5.0",
      "_model_name": "HTMLModel",
      "_view_count": null,
      "_view_module": "@jupyter-widgets/controls",
      "_view_module_version": "1.5.0",
      "_view_name": "HTMLView",
      "description": "",
      "description_tooltip": null,
      "layout": "IPY_MODEL_dac7316dca0340deb5be5f27fba728f1",
      "placeholder": "​",
      "style": "IPY_MODEL_4b0036670d2a411a951f9ab7cd078c94",
      "value": " 0/20 [00:59&lt;?, ?it/s]"
     }
    },
    "48576261fe144fdaa374ee08c394cfbb": {
     "model_module": "@jupyter-widgets/controls",
     "model_module_version": "1.5.0",
     "model_name": "HBoxModel",
     "state": {
      "_dom_classes": [],
      "_model_module": "@jupyter-widgets/controls",
      "_model_module_version": "1.5.0",
      "_model_name": "HBoxModel",
      "_view_count": null,
      "_view_module": "@jupyter-widgets/controls",
      "_view_module_version": "1.5.0",
      "_view_name": "HBoxView",
      "box_style": "",
      "children": [
       "IPY_MODEL_91d5b9f421604d7e90b20c4d7811624d",
       "IPY_MODEL_82cc703e5c554128b4cdbbd44ac8c73e",
       "IPY_MODEL_2857cfa6dac64cfb9baacac75b6978a3"
      ],
      "layout": "IPY_MODEL_903c1b6460724b4ba9cb11f539ba61d8"
     }
    },
    "4a638c000d5f4336b071160ee713c9a3": {
     "model_module": "@jupyter-widgets/controls",
     "model_module_version": "1.5.0",
     "model_name": "ProgressStyleModel",
     "state": {
      "_model_module": "@jupyter-widgets/controls",
      "_model_module_version": "1.5.0",
      "_model_name": "ProgressStyleModel",
      "_view_count": null,
      "_view_module": "@jupyter-widgets/base",
      "_view_module_version": "1.2.0",
      "_view_name": "StyleView",
      "bar_color": null,
      "description_width": ""
     }
    },
    "4b0036670d2a411a951f9ab7cd078c94": {
     "model_module": "@jupyter-widgets/controls",
     "model_module_version": "1.5.0",
     "model_name": "DescriptionStyleModel",
     "state": {
      "_model_module": "@jupyter-widgets/controls",
      "_model_module_version": "1.5.0",
      "_model_name": "DescriptionStyleModel",
      "_view_count": null,
      "_view_module": "@jupyter-widgets/base",
      "_view_module_version": "1.2.0",
      "_view_name": "StyleView",
      "description_width": ""
     }
    },
    "82cc703e5c554128b4cdbbd44ac8c73e": {
     "model_module": "@jupyter-widgets/controls",
     "model_module_version": "1.5.0",
     "model_name": "FloatProgressModel",
     "state": {
      "_dom_classes": [],
      "_model_module": "@jupyter-widgets/controls",
      "_model_module_version": "1.5.0",
      "_model_name": "FloatProgressModel",
      "_view_count": null,
      "_view_module": "@jupyter-widgets/controls",
      "_view_module_version": "1.5.0",
      "_view_name": "ProgressView",
      "bar_style": "",
      "description": "",
      "description_tooltip": null,
      "layout": "IPY_MODEL_dec962f9307f489db59f033685f62f1c",
      "max": 20,
      "min": 0,
      "orientation": "horizontal",
      "style": "IPY_MODEL_4a638c000d5f4336b071160ee713c9a3",
      "value": 0
     }
    },
    "903c1b6460724b4ba9cb11f539ba61d8": {
     "model_module": "@jupyter-widgets/base",
     "model_module_version": "1.2.0",
     "model_name": "LayoutModel",
     "state": {
      "_model_module": "@jupyter-widgets/base",
      "_model_module_version": "1.2.0",
      "_model_name": "LayoutModel",
      "_view_count": null,
      "_view_module": "@jupyter-widgets/base",
      "_view_module_version": "1.2.0",
      "_view_name": "LayoutView",
      "align_content": null,
      "align_items": null,
      "align_self": null,
      "border": null,
      "bottom": null,
      "display": "inline-flex",
      "flex": null,
      "flex_flow": "row wrap",
      "grid_area": null,
      "grid_auto_columns": null,
      "grid_auto_flow": null,
      "grid_auto_rows": null,
      "grid_column": null,
      "grid_gap": null,
      "grid_row": null,
      "grid_template_areas": null,
      "grid_template_columns": null,
      "grid_template_rows": null,
      "height": null,
      "justify_content": null,
      "justify_items": null,
      "left": null,
      "margin": null,
      "max_height": null,
      "max_width": null,
      "min_height": null,
      "min_width": null,
      "object_fit": null,
      "object_position": null,
      "order": null,
      "overflow": null,
      "overflow_x": null,
      "overflow_y": null,
      "padding": null,
      "right": null,
      "top": null,
      "visibility": null,
      "width": "100%"
     }
    },
    "91d5b9f421604d7e90b20c4d7811624d": {
     "model_module": "@jupyter-widgets/controls",
     "model_module_version": "1.5.0",
     "model_name": "HTMLModel",
     "state": {
      "_dom_classes": [],
      "_model_module": "@jupyter-widgets/controls",
      "_model_module_version": "1.5.0",
      "_model_name": "HTMLModel",
      "_view_count": null,
      "_view_module": "@jupyter-widgets/controls",
      "_view_module_version": "1.5.0",
      "_view_name": "HTMLView",
      "description": "",
      "description_tooltip": null,
      "layout": "IPY_MODEL_20d9562a75344c7a963dec4621d77011",
      "placeholder": "​",
      "style": "IPY_MODEL_d77279690b2448538e6bb8a5020d5d9f",
      "value": "Train - [E 1/20 s 1] [B 334/4800 - B Loss 1.6836] - T Loss 0.0000 - V Loss 0.0000:   0%"
     }
    },
    "d77279690b2448538e6bb8a5020d5d9f": {
     "model_module": "@jupyter-widgets/controls",
     "model_module_version": "1.5.0",
     "model_name": "DescriptionStyleModel",
     "state": {
      "_model_module": "@jupyter-widgets/controls",
      "_model_module_version": "1.5.0",
      "_model_name": "DescriptionStyleModel",
      "_view_count": null,
      "_view_module": "@jupyter-widgets/base",
      "_view_module_version": "1.2.0",
      "_view_name": "StyleView",
      "description_width": ""
     }
    },
    "dac7316dca0340deb5be5f27fba728f1": {
     "model_module": "@jupyter-widgets/base",
     "model_module_version": "1.2.0",
     "model_name": "LayoutModel",
     "state": {
      "_model_module": "@jupyter-widgets/base",
      "_model_module_version": "1.2.0",
      "_model_name": "LayoutModel",
      "_view_count": null,
      "_view_module": "@jupyter-widgets/base",
      "_view_module_version": "1.2.0",
      "_view_name": "LayoutView",
      "align_content": null,
      "align_items": null,
      "align_self": null,
      "border": null,
      "bottom": null,
      "display": null,
      "flex": null,
      "flex_flow": null,
      "grid_area": null,
      "grid_auto_columns": null,
      "grid_auto_flow": null,
      "grid_auto_rows": null,
      "grid_column": null,
      "grid_gap": null,
      "grid_row": null,
      "grid_template_areas": null,
      "grid_template_columns": null,
      "grid_template_rows": null,
      "height": null,
      "justify_content": null,
      "justify_items": null,
      "left": null,
      "margin": null,
      "max_height": null,
      "max_width": null,
      "min_height": null,
      "min_width": null,
      "object_fit": null,
      "object_position": null,
      "order": null,
      "overflow": null,
      "overflow_x": null,
      "overflow_y": null,
      "padding": null,
      "right": null,
      "top": null,
      "visibility": null,
      "width": null
     }
    },
    "dec962f9307f489db59f033685f62f1c": {
     "model_module": "@jupyter-widgets/base",
     "model_module_version": "1.2.0",
     "model_name": "LayoutModel",
     "state": {
      "_model_module": "@jupyter-widgets/base",
      "_model_module_version": "1.2.0",
      "_model_name": "LayoutModel",
      "_view_count": null,
      "_view_module": "@jupyter-widgets/base",
      "_view_module_version": "1.2.0",
      "_view_name": "LayoutView",
      "align_content": null,
      "align_items": null,
      "align_self": null,
      "border": null,
      "bottom": null,
      "display": null,
      "flex": "2",
      "flex_flow": null,
      "grid_area": null,
      "grid_auto_columns": null,
      "grid_auto_flow": null,
      "grid_auto_rows": null,
      "grid_column": null,
      "grid_gap": null,
      "grid_row": null,
      "grid_template_areas": null,
      "grid_template_columns": null,
      "grid_template_rows": null,
      "height": null,
      "justify_content": null,
      "justify_items": null,
      "left": null,
      "margin": null,
      "max_height": null,
      "max_width": null,
      "min_height": null,
      "min_width": null,
      "object_fit": null,
      "object_position": null,
      "order": null,
      "overflow": null,
      "overflow_x": null,
      "overflow_y": null,
      "padding": null,
      "right": null,
      "top": null,
      "visibility": null,
      "width": null
     }
    }
   }
  }
 },
 "nbformat": 4,
 "nbformat_minor": 4
}
