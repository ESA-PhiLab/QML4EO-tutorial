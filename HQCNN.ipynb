{
  "cells": [
    {
      "cell_type": "markdown",
      "metadata": {
        "id": "7YQNPYERPYB5"
      },
      "source": [
        "# Download the dataset\n",
        "![](https://github.com/phelber/EuroSAT/blob/master/eurosat_overview_small.jpg?raw=true)\n"
      ]
    },
    {
      "cell_type": "code",
      "execution_count": null,
      "metadata": {
        "colab": {
          "base_uri": "https://localhost:8080/"
        },
        "id": "o4c7cM2_KoTy",
        "outputId": "4b2662d1-5050-4fe5-cbed-2c27ec6c7626"
      },
      "outputs": [],
      "source": [
        "!wget https://madm.dfki.de/files/sentinel/EuroSAT.zip --no-check-certificate\n",
        "!unzip -q /content/EuroSAT.zip\n",
        "!rm -r EuroSAT\n",
        "!mv 2750 EuroSAT\n",
        "!ls -l /content/EuroSAT"
      ]
    },
    {
      "cell_type": "markdown",
      "metadata": {
        "id": "rY_6YyKhCfsq"
      },
      "source": [
        "# Cloning repository with base code"
      ]
    },
    {
      "cell_type": "code",
      "execution_count": null,
      "metadata": {
        "colab": {
          "base_uri": "https://localhost:8080/"
        },
        "id": "N5BPHQzVCj-U",
        "outputId": "a542a6d9-7964-4046-c63a-0456d687e860"
      },
      "outputs": [],
      "source": [
        "import sys\n",
        "!rm -r /content/QML-tutorial\n",
        "!git clone https://github.com/alessandrosebastianelli/QML-tutorial.git\n",
        "if '/content/QML-tutorial' not in sys.path: sys.path.append('/content/QML-tutorial')"
      ]
    },
    {
      "attachments": {},
      "cell_type": "markdown",
      "metadata": {
        "id": "4iT1nEic7J0X"
      },
      "source": [
        "## Installing Missing packages"
      ]
    },
    {
      "cell_type": "code",
      "execution_count": null,
      "metadata": {
        "id": "I5onxOGy7L-b"
      },
      "outputs": [],
      "source": [
        "!pip -q install qiskit==0.23.0"
      ]
    },
    {
      "cell_type": "markdown",
      "metadata": {
        "id": "hWThPDKS7WAi"
      },
      "source": [
        "# EuroSAT classification with Hybrid Quantum Neural Networks"
      ]
    },
    {
      "cell_type": "code",
      "execution_count": null,
      "metadata": {
        "id": "Dps5FgGHmnPr"
      },
      "outputs": [],
      "source": [
        "from utils.DatasetHandler import DatasetHandler\n",
        "from qc.QiskitCircuit import QiskitCircuit\n",
        "from models.HybridNet import HybridNet\n",
        "from utils.utils import print_CF\n",
        "\n",
        "from config import *\n",
        "\n",
        "from sklearn.metrics import confusion_matrix, classification_report\n",
        "import torch.optim as optim\n",
        "import torch.nn as nn\n",
        "import torch\n",
        "import os\n",
        "\n",
        "# Suppressing warning\n",
        "import warnings\n",
        "warnings.filterwarnings('ignore')"
      ]
    },
    {
      "cell_type": "code",
      "execution_count": null,
      "metadata": {
        "colab": {
          "base_uri": "https://localhost:8080/"
        },
        "id": "zGcMqkxq7DOe",
        "outputId": "40a32e21-b701-4d5b-a323-2539bde5437e"
      },
      "outputs": [],
      "source": [
        "dataset_root = '/content/EuroSAT'\n",
        "\n",
        "print('Loading Dataset')\n",
        "dh = DatasetHandler(dataset_root)\n",
        "\n",
        "classes = []\n",
        "for i, c in enumerate(dh.classes):\n",
        "    cl = c.split(os.path.sep)[-1]\n",
        "    classes.append(cl)\n",
        "classes.sort()\n",
        "\n",
        "print('[*] Classes: ', classes)\n",
        "imgs, labels = dh.load_paths_labels(dataset_root, classes=classes)\n",
        "\n",
        "print('[*] Size: ', len(imgs))\n",
        "\n",
        "\n",
        "tra_imgs, tra_lbls, val_imgs, val_lbls = dh.train_validation_split(imgs, labels, 0.2)\n",
        "print('[*] Training Size: ', len(tra_imgs))\n",
        "print('[*] Validation Size: ', len(val_imgs))"
      ]
    },
    {
      "cell_type": "code",
      "execution_count": null,
      "metadata": {
        "id": "z3LYqtYxBUPW"
      },
      "outputs": [],
      "source": [
        "print('Initialize Quantum Hybrid Neural Network')\n",
        "network = HybridNet()\n",
        "optimizer = optim.Adam(network.parameters(), lr=LEARNING_RATE)\n",
        "\n",
        "print('Printing Quantum Circuit')\n",
        "circuit = QiskitCircuit(NUM_QUBITS, SIMULATOR, NUM_SHOTS)\n",
        "print(circuit.circuit.draw(output='text', scale=1/NUM_LAYERS))\n",
        "\n",
        "print('Printing Quantum Circuit Parameters')\n",
        "print('[*] Number of Qubits:   {}'.format(NUM_QUBITS))\n",
        "print('[*] Number of R Layers: {}'.format(NUM_LAYERS))\n",
        "print('[*] Number of Outputs:  {}'.format(NUM_QC_OUTPUTS))\n",
        "print('[*] Number of Shots:    {}'.format(NUM_SHOTS))"
      ]
    },
    {
      "cell_type": "code",
      "execution_count": null,
      "metadata": {
        "id": "APjnEgM_Cvqw"
      },
      "outputs": [],
      "source": [
        "train_loader = iter(dh.data_loader(tra_imgs, tra_lbls, batch_size=1, img_shape=(64,64,3)))\n",
        "test_loader  = iter(dh.data_loader(val_imgs, val_lbls, batch_size=1, img_shape=(64,64,3)))"
      ]
    },
    {
      "cell_type": "code",
      "execution_count": null,
      "metadata": {
        "colab": {
          "base_uri": "https://localhost:8080/"
        },
        "id": "3_AEht3xDahK",
        "outputId": "ec3e88f6-19ec-4c3d-a5a3-0fc113ff7b29"
      },
      "outputs": [],
      "source": [
        "print('Training')\n",
        "train_loss_list = []\n",
        "val_loss_list = []\n",
        "loss_func = nn.CrossEntropyLoss()\n",
        "\n",
        "for epoch in range(EPOCHS):\n",
        "    total_loss = []\n",
        "    for batch_idx in range(len(tra_imgs)):\n",
        "        data, target = next(train_loader)\n",
        "        optimizer.zero_grad()\n",
        "        # Forward pass\n",
        "        output = network(data)\n",
        "        # Calculating loss\n",
        "        loss = loss_func(output, target)\n",
        "        # Backward pass\n",
        "        loss.backward()\n",
        "        # Optimize the weights\n",
        "        optimizer.step()\n",
        "        total_loss.append(loss.item())\n",
        "\n",
        "        print('\\r\\t\\t [*] [Epoch %d/%d] [Batch %d/%d] [Train Loss %f] ' % (epoch, EPOCHS, batch_idx, len(tra_imgs) - 1, loss.item()),\n",
        "              end='\\t\\t')\n",
        "\n",
        "    with torch.no_grad():\n",
        "        val_loss = []\n",
        "        targets = []\n",
        "        predictions = []\n",
        "        for batch_idx in range(len(val_imgs)):\n",
        "            data, target = next(test_loader)\n",
        "            output = network(data)\n",
        "            loss = loss_func(output, target)\n",
        "            val_loss.append(loss.item())\n",
        "            targets.append(target.item())\n",
        "            predictions.append(network.predict(data).item())\n",
        "\n",
        "    train_loss_list.append(sum(total_loss) / len(total_loss))\n",
        "    val_loss_list.append(sum(val_loss) / len(val_loss))\n",
        "\n",
        "    print('[Val Loss %f] ' % (val_loss_list[-1]))\n",
        "\n",
        "    if epoch % 3 == 1:\n",
        "        cf = confusion_matrix(targets, predictions, normalize='true')\n",
        "        cr = classification_report(targets, predictions, target_names=classes, digits=4)\n",
        "\n",
        "        print('\\t\\t [*] Confusion Matrix:')\n",
        "        print_CF(cf, classes)\n",
        "        print('\\t\\t [*] Classification Report:')\n",
        "        print(cr)"
      ]
    },
    {
      "cell_type": "code",
      "execution_count": null,
      "metadata": {
        "id": "feiSDsT4Dx0w"
      },
      "outputs": [],
      "source": []
    }
  ],
  "metadata": {
    "accelerator": "GPU",
    "colab": {
      "provenance": []
    },
    "gpuClass": "standard",
    "kernelspec": {
      "display_name": "Python 3",
      "name": "python3"
    },
    "language_info": {
      "name": "python"
    }
  },
  "nbformat": 4,
  "nbformat_minor": 0
}
