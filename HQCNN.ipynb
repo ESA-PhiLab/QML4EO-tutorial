{
  "cells": [
    {
      "attachments": {},
      "cell_type": "markdown",
      "metadata": {},
      "source": [
        "# Hybrid Quantum Convolutional Neural Netwoks for Earth Observation Classification\n",
        "\n",
        "____________________________________________________ NOTES ____________________________________________________\n",
        "\n",
        "1. This notebook is meant to be runned in [Google Colaboratory](https://www.google.com/url?sa=t&rct=j&q=&esrc=s&source=web&cd=&cad=rja&uact=8&ved=2ahUKEwjB6IWqmpL9AhXM0aQKHcW0DNkQFnoECBQQAQ&url=https%3A%2F%2Fcolab.research.google.com%2F&usg=AOvVaw3A5aPK2kLFzKOzb6sOckVw)\n",
        "\n",
        "2. Please refer to the following articles to get more insight about this topic:\n",
        "    - Sebastianelli, A., Zaidenberg, D. A., Spiller, D., Le Saux, B., & Ullo, S. L. (2021). On circuit-based hybrid quantum neural networks for remote sensing imagery classification. IEEE Journal of Selected Topics in Applied Earth Observations and Remote Sensing, 15, 565-580.\n",
        "    - Zaidenberg, D. A., Sebastianelli, A., Spiller, D., Le Saux, B., & Ullo, S. L. (2021, July). Advantages and bottlenecks of quantum machine learning for remote sensing. In 2021 IEEE International Geoscience and Remote Sensing Symposium IGARSS (pp. 5680-5683). IEEE.\n",
        "    - https://qiskit.org/documentation/machine-learning/tutorials/index.html\n",
        "    - https://pennylane.ai/qml/demos_qml.html\n"
      ]
    },
    {
      "attachments": {},
      "cell_type": "markdown",
      "metadata": {
        "id": "7YQNPYERPYB5"
      },
      "source": [
        "# Download the dataset\n",
        "\n",
        "In this study, we address the challenge of land use and land cover classification using Sentinel-2 satellite images. The Sentinel-2 satellite images are openly and freely accessible provided in the Earth observation program Copernicus. We present a novel dataset based on Sentinel-2 satellite images covering 13 spectral bands and consisting out of 10 classes with in total 27,000 labeled and geo-referenced images. We provide benchmarks for this novel dataset with its spectral bands using state-of-the-art deep Convolutional Neural Network (CNNs). With the proposed novel dataset, we achieved an overall classification accuracy of 98.57%. The resulting classification system opens a gate towards a number of Earth observation applications. We demonstrate how this classification system can be used for detecting land use and land cover changes and how it can assist in improving geographical maps.\n",
        "\n",
        "Get more information [here](https://github.com/phelber/EuroSAT).\n",
        "\n",
        "![](https://github.com/phelber/EuroSAT/blob/master/eurosat_overview_small.jpg?raw=true)\n",
        "\n",
        "\n"
      ]
    },
    {
      "attachments": {},
      "cell_type": "markdown",
      "metadata": {},
      "source": [
        "For this tutorial we are using the EuroSAT RGB dataset, accessible via wget. The following cell takes care of downloading, unzipping and preparing the dataset."
      ]
    },
    {
      "cell_type": "code",
      "execution_count": null,
      "metadata": {
        "colab": {
          "base_uri": "https://localhost:8080/"
        },
        "id": "o4c7cM2_KoTy",
        "outputId": "4b2662d1-5050-4fe5-cbed-2c27ec6c7626"
      },
      "outputs": [],
      "source": [
        "!wget https://madm.dfki.de/files/sentinel/EuroSAT.zip --no-check-certificate\n",
        "!unzip -q /content/EuroSAT.zip\n",
        "!rm -r EuroSAT\n",
        "!mv 2750 EuroSAT\n",
        "!ls -l /content/EuroSAT"
      ]
    },
    {
      "cell_type": "markdown",
      "metadata": {
        "id": "rY_6YyKhCfsq"
      },
      "source": [
        "# Cloning repository with base code"
      ]
    },
    {
      "cell_type": "code",
      "execution_count": null,
      "metadata": {
        "colab": {
          "base_uri": "https://localhost:8080/"
        },
        "id": "N5BPHQzVCj-U",
        "outputId": "a542a6d9-7964-4046-c63a-0456d687e860"
      },
      "outputs": [],
      "source": [
        "import sys\n",
        "!rm -r /content/QML-tutorial\n",
        "!git clone https://github.com/alessandrosebastianelli/QML-tutorial.git\n",
        "if '/content/QML-tutorial' not in sys.path: sys.path.append('/content/QML-tutorial')"
      ]
    },
    {
      "attachments": {},
      "cell_type": "markdown",
      "metadata": {
        "id": "4iT1nEic7J0X"
      },
      "source": [
        "## Installing Missing packages"
      ]
    },
    {
      "cell_type": "code",
      "execution_count": null,
      "metadata": {
        "id": "I5onxOGy7L-b"
      },
      "outputs": [],
      "source": [
        "!pip -q install qiskit==0.23.0"
      ]
    },
    {
      "cell_type": "markdown",
      "metadata": {
        "id": "hWThPDKS7WAi"
      },
      "source": [
        "# EuroSAT classification with Hybrid Quantum Neural Networks"
      ]
    },
    {
      "cell_type": "code",
      "execution_count": null,
      "metadata": {
        "id": "Dps5FgGHmnPr"
      },
      "outputs": [],
      "source": [
        "from utils.DatasetHandler import DatasetHandler\n",
        "from qc.QiskitCircuit import QiskitCircuit\n",
        "from models.HybridNet import HybridNet\n",
        "from models.PyTorchModel import PyTorchModel\n",
        "\n",
        "from config import *\n",
        "\n",
        "import torch.optim as optim\n",
        "import torch.nn as nn\n",
        "import torch\n",
        "import os\n",
        "\n",
        "# Suppressing warning\n",
        "import warnings\n",
        "warnings.filterwarnings('ignore')\n",
        "\n",
        "# Allows to reload modified code without restarting the kernel\n",
        "%load_ext autoreload\n",
        "%autoreload 2"
      ]
    },
    {
      "cell_type": "code",
      "execution_count": null,
      "metadata": {
        "colab": {
          "base_uri": "https://localhost:8080/"
        },
        "id": "zGcMqkxq7DOe",
        "outputId": "40a32e21-b701-4d5b-a323-2539bde5437e"
      },
      "outputs": [],
      "source": [
        "dataset_root = '/content/EuroSAT'\n",
        "\n",
        "print('Loading Dataset')\n",
        "dh = DatasetHandler(dataset_root)\n",
        "\n",
        "classes = []\n",
        "for i, c in enumerate(dh.classes):\n",
        "    cl = c.split(os.path.sep)[-1]\n",
        "    classes.append(cl)\n",
        "classes.sort()\n",
        "\n",
        "print('[*] Classes: ', classes)\n",
        "imgs, labels = dh.load_paths_labels(dataset_root, classes=classes)\n",
        "\n",
        "print('[*] Size: ', len(imgs))\n",
        "\n",
        "tra_imgs, tra_lbls, val_imgs, val_lbls = dh.train_validation_split(imgs, labels, 0.2)\n",
        "print('[*] Training Size: ', len(tra_imgs))\n",
        "print('[*] Validation Size: ', len(val_imgs))"
      ]
    },
    {
      "cell_type": "code",
      "execution_count": null,
      "metadata": {
        "id": "z3LYqtYxBUPW"
      },
      "outputs": [],
      "source": [
        "print('Initialize Quantum Hybrid Neural Network')\n",
        "network = HybridNet()\n",
        "optimizer = optim.SGD(network.parameters(), lr=LEARNING_RATE, momentum = MOMENTUM)\n",
        "criterion = nn.CrossEntropyLoss()\n",
        "\n",
        "print('Printing Quantum Circuit')\n",
        "circuit = QiskitCircuit(NUM_QUBITS, SIMULATOR, NUM_SHOTS)\n",
        "print(circuit.circuit.draw(output='text', scale=1/NUM_LAYERS))\n",
        "\n",
        "print('Printing Quantum Circuit Parameters')\n",
        "print('[*] Number of Qubits:   {}'.format(NUM_QUBITS))\n",
        "print('[*] Number of R Layers: {}'.format(NUM_LAYERS))\n",
        "print('[*] Number of Outputs:  {}'.format(NUM_QC_OUTPUTS))\n",
        "print('[*] Number of Shots:    {}'.format(NUM_SHOTS))"
      ]
    },
    {
      "cell_type": "code",
      "execution_count": null,
      "metadata": {},
      "outputs": [],
      "source": [
        "model = PyTorchModel(network, criterion, optimizer)"
      ]
    },
    {
      "cell_type": "code",
      "execution_count": null,
      "metadata": {},
      "outputs": [],
      "source": [
        "tra_set = [tra_imgs, tra_lbls]\n",
        "val_set = [val_imgs, val_lbls]\n",
        "model.fit(EPOCHS, tra_set, val_set, classes, batch_size=1, es=None, tra_size = None, val_size = None)"
      ]
    },
    {
      "cell_type": "code",
      "execution_count": null,
      "metadata": {},
      "outputs": [],
      "source": []
    }
  ],
  "metadata": {
    "accelerator": "GPU",
    "colab": {
      "provenance": []
    },
    "gpuClass": "standard",
    "kernelspec": {
      "display_name": "Python 3",
      "name": "python3"
    },
    "language_info": {
      "name": "python"
    }
  },
  "nbformat": 4,
  "nbformat_minor": 0
}
