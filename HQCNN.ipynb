{
  "cells": [
    {
      "attachments": {},
      "cell_type": "markdown",
      "metadata": {},
      "source": [
        "# Hybrid Quantum Convolutional Neural Netwoks for Earth Observation Classification\n",
        "\n",
        "________________________________________________________________ NOTES ________________________________________________________________\n",
        "\n",
        "1. This notebook is meant to be runned in [Google Colaboratory](https://www.google.com/url?sa=t&rct=j&q=&esrc=s&source=web&cd=&cad=rja&uact=8&ved=2ahUKEwjB6IWqmpL9AhXM0aQKHcW0DNkQFnoECBQQAQ&url=https%3A%2F%2Fcolab.research.google.com%2F&usg=AOvVaw3A5aPK2kLFzKOzb6sOckVw)\n",
        "\n",
        "2. Please refer to the following articles to get more insight about this topic:\n",
        "    - Sebastianelli, A., Zaidenberg, D. A., Spiller, D., Le Saux, B., & Ullo, S. L. (2021). On circuit-based hybrid quantum neural networks for remote sensing imagery classification. IEEE Journal of Selected Topics in Applied Earth Observations and Remote Sensing, 15, 565-580.\n",
        "    - Zaidenberg, D. A., Sebastianelli, A., Spiller, D., Le Saux, B., & Ullo, S. L. (2021, July). Advantages and bottlenecks of quantum machine learning for remote sensing. In 2021 IEEE International Geoscience and Remote Sensing Symposium IGARSS (pp. 5680-5683). IEEE.\n",
        "    - Eurosat: A novel dataset and deep learning benchmark for land use and land cover classification. Patrick Helber, Benjamin Bischke, Andreas Dengel, Damian Borth. IEEE Journal of Selected Topics in Applied Earth Observations and Remote Sensing, 2019.\n",
        "    - Introducing EuroSAT: A Novel Dataset and Deep Learning Benchmark for Land Use and Land Cover Classification. Patrick Helber, Benjamin Bischke, Andreas Dengel. 2018 IEEE International Geoscience and Remote Sensing Symposium, 2018.\n",
        "    - https://qiskit.org/documentation/machine-learning/tutorials/index.html\n",
        "    - https://pennylane.ai/qml/demos_qml.html\n"
      ]
    },
    {
      "attachments": {},
      "cell_type": "markdown",
      "metadata": {
        "id": "7YQNPYERPYB5"
      },
      "source": [
        "# Download the dataset\n",
        "\n",
        "In this study, we address the challenge of land use and land cover classification using Sentinel-2 satellite images. The Sentinel-2 satellite images are openly and freely accessible provided in the Earth observation program Copernicus. We present a novel dataset based on Sentinel-2 satellite images covering 13 spectral bands and consisting out of 10 classes with in total 27,000 labeled and geo-referenced images. We provide benchmarks for this novel dataset with its spectral bands using state-of-the-art deep Convolutional Neural Network (CNNs). With the proposed novel dataset, we achieved an overall classification accuracy of 98.57%. The resulting classification system opens a gate towards a number of Earth observation applications. We demonstrate how this classification system can be used for detecting land use and land cover changes and how it can assist in improving geographical maps.\n",
        "\n",
        "Get more information [here](https://github.com/phelber/EuroSAT).\n",
        "\n",
        "![](https://github.com/phelber/EuroSAT/blob/master/eurosat_overview_small.jpg?raw=true)\n",
        "\n",
        "\n"
      ]
    },
    {
      "attachments": {},
      "cell_type": "markdown",
      "metadata": {},
      "source": [
        "For this tutorial we are using the EuroSAT RGB dataset, accessible via wget. The following cell takes care of downloading, unzipping and preparing the dataset."
      ]
    },
    {
      "cell_type": "code",
      "execution_count": null,
      "metadata": {
        "colab": {
          "base_uri": "https://localhost:8080/"
        },
        "id": "o4c7cM2_KoTy",
        "outputId": "4b2662d1-5050-4fe5-cbed-2c27ec6c7626"
      },
      "outputs": [],
      "source": [
        "!wget https://madm.dfki.de/files/sentinel/EuroSAT.zip --no-check-certificate\n",
        "!unzip -q /content/EuroSAT.zip\n",
        "!rm -r EuroSAT\n",
        "!mv 2750 EuroSAT\n",
        "!ls -l /content/EuroSAT"
      ]
    },
    {
      "attachments": {},
      "cell_type": "markdown",
      "metadata": {},
      "source": [
        "Jump this step if you want to run multiclass classification"
      ]
    },
    {
      "cell_type": "code",
      "execution_count": null,
      "metadata": {},
      "outputs": [],
      "source": [
        "!rm -r /content/EuroSAT/Forest\n",
        "!rm -r /content/EuroSAT/AnnualCrop\n",
        "!rm -r /content/EuroSAT/HerbaceousVegetation\n",
        "!rm -r /content/EuroSAT/Highway\n",
        "!rm -r /content/EuroSAT/Pasture\n",
        "!rm -r /content/EuroSAT/PermanentCrop\n",
        "!rm -r /content/EuroSAT/Residential\n",
        "!rm -r /content/EuroSAT/SeaLake"
      ]
    },
    {
      "attachments": {},
      "cell_type": "markdown",
      "metadata": {
        "id": "rY_6YyKhCfsq"
      },
      "source": [
        "## Cloning repository with base code\n",
        "Basic functions are wrapped in seprated files to keep the notebook clean. Feel free to explore the code."
      ]
    },
    {
      "cell_type": "code",
      "execution_count": null,
      "metadata": {
        "colab": {
          "base_uri": "https://localhost:8080/"
        },
        "id": "N5BPHQzVCj-U",
        "outputId": "a542a6d9-7964-4046-c63a-0456d687e860"
      },
      "outputs": [],
      "source": [
        "import sys\n",
        "!rm -r /content/QML-tutorial\n",
        "!git clone https://github.com/alessandrosebastianelli/QML-tutorial.git\n",
        "if '/content/QML-tutorial' not in sys.path: sys.path.append('/content/QML-tutorial')"
      ]
    },
    {
      "attachments": {},
      "cell_type": "markdown",
      "metadata": {},
      "source": [
        "## Install missing packages"
      ]
    },
    {
      "cell_type": "code",
      "execution_count": null,
      "metadata": {
        "id": "I5onxOGy7L-b"
      },
      "outputs": [],
      "source": [
        "!pip -q install qiskit==0.23.0 torchinfo==1.7.2"
      ]
    },
    {
      "attachments": {},
      "cell_type": "markdown",
      "metadata": {
        "id": "hWThPDKS7WAi"
      },
      "source": [
        "# Network train and validation"
      ]
    },
    {
      "cell_type": "code",
      "execution_count": null,
      "metadata": {
        "id": "Dps5FgGHmnPr"
      },
      "outputs": [],
      "source": [
        "# Suppressing warning\n",
        "import warnings\n",
        "warnings.filterwarnings('ignore')\n",
        "\n",
        "from utils.DatasetHandler import DatasetHandler\n",
        "from qc.QiskitCircuit import QiskitCircuit\n",
        "from models.HybridNet import HybridNet\n",
        "from models.PyTorchModel import PyTorchModel\n",
        "\n",
        "# Configuration file, please read it carefully\n",
        "from config import *\n",
        "\n",
        "import torch.optim as optim\n",
        "import torch.nn as nn\n",
        "import torch\n",
        "import os\n",
        "\n",
        "\n",
        "# Allows to reload modified code without restarting the kernel\n",
        "%load_ext autoreload\n",
        "%autoreload 2"
      ]
    },
    {
      "attachments": {},
      "cell_type": "markdown",
      "metadata": {},
      "source": [
        "Load the dataset"
      ]
    },
    {
      "cell_type": "code",
      "execution_count": null,
      "metadata": {
        "colab": {
          "base_uri": "https://localhost:8080/"
        },
        "id": "zGcMqkxq7DOe",
        "outputId": "40a32e21-b701-4d5b-a323-2539bde5437e"
      },
      "outputs": [],
      "source": [
        "################################ Initialize Dataset Handler ################################\n",
        "################################ and print classes          ################################\n",
        "print('Loading Dataset')\n",
        "dh = DatasetHandler(DATASET_ROOT)\n",
        "\n",
        "classes = []\n",
        "for i, c in enumerate(dh.classes):\n",
        "    cl = c.split(os.path.sep)[-1]\n",
        "    classes.append(cl)\n",
        "classes.sort()\n",
        "print('[*] Classes: {}'.format(classes))\n",
        "\n",
        "################################ Load image paths and labels ################################\n",
        "imgs, labels = dh.load_paths_labels(DATASET_ROOT, classes=classes)\n",
        "print('[*] Size: {}'.format(len(imgs)))\n",
        "\n",
        "################################# Training-Validation Split #################################\n",
        "tra_imgs, tra_lbls, val_imgs, val_lbls = dh.train_validation_split(imgs, labels, SPLIT_FACTOR)\n",
        "print('[*] Training Size:   {}'.format(len(tra_imgs)))\n",
        "print('[*] Validation Size: {}'.format(len(val_imgs)))"
      ]
    },
    {
      "attachments": {},
      "cell_type": "markdown",
      "metadata": {},
      "source": [
        "Initialize hybrid model"
      ]
    },
    {
      "cell_type": "code",
      "execution_count": null,
      "metadata": {
        "id": "z3LYqtYxBUPW"
      },
      "outputs": [],
      "source": [
        "print('Initialize Quantum Hybrid Neural Network')\n",
        "circuit = QiskitCircuit()\n",
        "network = HybridNet()\n",
        "\n",
        "optimizer = optim.SGD(network.parameters(), lr=LEARNING_RATE, momentum = MOMENTUM)\n",
        "criterion = nn.CrossEntropyLoss()\n",
        "\n",
        "print('Printing Quantum Circuit')\n",
        "print(circuit.circuit.draw(output='text', scale=1/NUM_LAYERS))\n",
        "\n",
        "print('Printing Quantum Circuit Parameters')\n",
        "print('[*] Number of Qubits:   {}'.format(NUM_QUBITS))\n",
        "print('[*] Number of R Layers: {}'.format(NUM_LAYERS))\n",
        "print('[*] Number of Outputs:  {}'.format(NUM_QC_OUTPUTS))\n",
        "print('[*] Number of Shots:    {}'.format(NUM_SHOTS))\n",
        "\n",
        "# This class wrap a PyTorch model. It is only needed to mask basic function, like model training.\n",
        "model = PyTorchModel(network, criterion, optimizer)"
      ]
    },
    {
      "attachments": {},
      "cell_type": "markdown",
      "metadata": {},
      "source": [
        "Fit the model"
      ]
    },
    {
      "cell_type": "code",
      "execution_count": null,
      "metadata": {},
      "outputs": [],
      "source": [
        "tra_set = [tra_imgs, tra_lbls]\n",
        "val_set = [val_imgs, val_lbls]\n",
        "model.fit(EPOCHS, tra_set, val_set, classes, batch_size=BATCH_SIZE, es=None, tra_size = None, val_size = None)"
      ]
    },
    {
      "cell_type": "code",
      "execution_count": null,
      "metadata": {},
      "outputs": [],
      "source": []
    }
  ],
  "metadata": {
    "accelerator": "GPU",
    "colab": {
      "provenance": []
    },
    "gpuClass": "standard",
    "kernelspec": {
      "display_name": "Python 3",
      "name": "python3"
    },
    "language_info": {
      "name": "python"
    }
  },
  "nbformat": 4,
  "nbformat_minor": 0
}
